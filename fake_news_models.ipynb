{
  "cells": [
    {
      "cell_type": "markdown",
      "metadata": {
        "id": "1G2qvyL2m6aA"
      },
      "source": [
        "#**Background & Problem Statement:**\n",
        "\n",
        "<br> **Background** <br>\n",
        "\n",
        "One of the main problems plaguing our virtual world is the spread of misinformation through fake news. “Fake news” refers to the deliberate spread of misleading information. Misinformation alone is not the only negative effect of fake news. Today, the issue is how misinformation in fake news is  being used. Fake news is often used in our media to polarize and manipulate the general public.\n",
        "\n",
        "<br> **Problem Statement** <br>\n",
        "\n",
        "Given the severity of fake news, the prevention of spreading misinformation should be of utmost importance on the internet. Our goal in this project is to use the machine learning techniques taught in this course on our dataset to predict if a website is providing real or fraudulent news.\n",
        "\n",
        "<br>\n",
        "\n",
        "For this project, we are creating two machine learning models that will accurately classify real and fake news given a set of data that characterizes each piece of news. To build the best models possible, we will clean our dataset through means of preprocessing, create our models, and then use hyper-parameter optimization to make our model as accurate as possible.\n",
        "\n",
        "<br> **Measures of Success** <br>\n",
        "\n",
        "Our measure of success in this project will be the accuracy of the model provided via functions available through sklearn library and the area under the ROC curve."
      ]
    },
    {
      "cell_type": "markdown",
      "metadata": {
        "id": "Hs-RQbJfm3PK"
      },
      "source": [
        "###**Import Libraries**"
      ]
    },
    {
      "cell_type": "code",
      "execution_count": null,
      "metadata": {
        "id": "t9PM_a2j-oKK"
      },
      "outputs": [],
      "source": [
        "import pandas as pd\n",
        "import numpy as np\n",
        "\n",
        "import matplotlib as mpl\n",
        "import matplotlib.pyplot as plt\n",
        "import seaborn as sns\n",
        "import plotly.express as px\n",
        "\n",
        "from pandas import DataFrame\n",
        "from sklearn.feature_extraction.text import CountVectorizer\n",
        "\n",
        "from collections import OrderedDict\n",
        "\n",
        "from sklearn.feature_extraction.text import TfidfVectorizer\n",
        "from sklearn.model_selection import train_test_split\n",
        "\n",
        "#needed for SVC model\n",
        "from sklearn.model_selection import RepeatedKFold\n",
        "from sklearn.model_selection import RandomizedSearchCV\n",
        "from sklearn.metrics import classification_report\n",
        "from sklearn.svm import SVC # \"Support vector classifier\"\n",
        "from sklearn.model_selection import GridSearchCV\n",
        "from sklearn.model_selection import RandomizedSearchCV\n",
        "\n",
        "from sklearn.preprocessing import OneHotEncoder, StandardScaler\n",
        "from sklearn.impute import SimpleImputer\n",
        "from sklearn.compose import ColumnTransformer\n",
        "from sklearn.pipeline import Pipeline\n",
        "from sklearn.metrics import accuracy_score\n",
        "from sklearn.decomposition import PCA\n",
        "\n",
        "from sklearn.metrics import f1_score\n"
      ]
    },
    {
      "cell_type": "markdown",
      "metadata": {
        "id": "BYVa5tSti-9g"
      },
      "source": [
        "#**Dataset**\n"
      ]
    },
    {
      "cell_type": "markdown",
      "metadata": {
        "id": "b4UP2rQAZl0_"
      },
      "source": [
        "**Load Data**\n"
      ]
    },
    {
      "cell_type": "code",
      "execution_count": null,
      "metadata": {
        "colab": {
          "base_uri": "https://localhost:8080/"
        },
        "id": "8Mcd3BAKi98I",
        "outputId": "70714402-257e-45f0-d0b3-ebe7965b5e34"
      },
      "outputs": [
        {
          "output_type": "execute_result",
          "data": {
            "text/plain": [
              "                 author                      published  \\\n",
              "0     Barracuda Brigade  2016-10-26T21:41:00.000+03:00   \n",
              "1  reasoning with facts  2016-10-29T08:47:11.259+03:00   \n",
              "2     Barracuda Brigade  2016-10-31T01:41:49.479+02:00   \n",
              "3                Fed Up  2016-11-01T05:22:00.000+02:00   \n",
              "4                Fed Up  2016-11-01T21:56:00.000+02:00   \n",
              "\n",
              "                                               title  \\\n",
              "0  muslims busted they stole millions in govt ben...   \n",
              "1  re why did attorney general loretta lynch plea...   \n",
              "2  breaking weiner cooperating with fbi on hillar...   \n",
              "3  pin drop speech by father of daughter kidnappe...   \n",
              "4  fantastic trumps  point plan to reform healthc...   \n",
              "\n",
              "                                                text language  \\\n",
              "0  print they should pay all the back all the mon...  english   \n",
              "1  why did attorney general loretta lynch plead t...  english   \n",
              "2  red state  \\nfox news sunday reported this mor...  english   \n",
              "3  email kayla mueller was a prisoner and torture...  english   \n",
              "4  email healthcare reform to make america great ...  english   \n",
              "\n",
              "              site_url                                       main_img_url  \\\n",
              "0  100percentfedup.com  http://bb4sp.com/wp-content/uploads/2016/10/Fu...   \n",
              "1  100percentfedup.com  http://bb4sp.com/wp-content/uploads/2016/10/Fu...   \n",
              "2  100percentfedup.com  http://bb4sp.com/wp-content/uploads/2016/10/Fu...   \n",
              "3  100percentfedup.com  http://100percentfedup.com/wp-content/uploads/...   \n",
              "4  100percentfedup.com  http://100percentfedup.com/wp-content/uploads/...   \n",
              "\n",
              "   type label                            title_without_stopwords  \\\n",
              "0  bias  Real        muslims busted stole millions govt benefits   \n",
              "1  bias  Real         attorney general loretta lynch plead fifth   \n",
              "2  bias  Real  breaking weiner cooperating fbi hillary email ...   \n",
              "3  bias  Real  pin drop speech father daughter kidnapped kill...   \n",
              "4  bias  Real  fantastic trumps point plan reform healthcare ...   \n",
              "\n",
              "                              text_without_stopwords  hasImage  \n",
              "0  print pay back money plus interest entire fami...       1.0  \n",
              "1  attorney general loretta lynch plead fifth bar...       1.0  \n",
              "2  red state fox news sunday reported morning ant...       1.0  \n",
              "3  email kayla mueller prisoner tortured isis cha...       1.0  \n",
              "4  email healthcare reform make america great sin...       1.0  "
            ],
            "text/html": [
              "\n",
              "  <div id=\"df-56d84942-d05f-4dbe-801e-179de6f0590f\">\n",
              "    <div class=\"colab-df-container\">\n",
              "      <div>\n",
              "<style scoped>\n",
              "    .dataframe tbody tr th:only-of-type {\n",
              "        vertical-align: middle;\n",
              "    }\n",
              "\n",
              "    .dataframe tbody tr th {\n",
              "        vertical-align: top;\n",
              "    }\n",
              "\n",
              "    .dataframe thead th {\n",
              "        text-align: right;\n",
              "    }\n",
              "</style>\n",
              "<table border=\"1\" class=\"dataframe\">\n",
              "  <thead>\n",
              "    <tr style=\"text-align: right;\">\n",
              "      <th></th>\n",
              "      <th>author</th>\n",
              "      <th>published</th>\n",
              "      <th>title</th>\n",
              "      <th>text</th>\n",
              "      <th>language</th>\n",
              "      <th>site_url</th>\n",
              "      <th>main_img_url</th>\n",
              "      <th>type</th>\n",
              "      <th>label</th>\n",
              "      <th>title_without_stopwords</th>\n",
              "      <th>text_without_stopwords</th>\n",
              "      <th>hasImage</th>\n",
              "    </tr>\n",
              "  </thead>\n",
              "  <tbody>\n",
              "    <tr>\n",
              "      <th>0</th>\n",
              "      <td>Barracuda Brigade</td>\n",
              "      <td>2016-10-26T21:41:00.000+03:00</td>\n",
              "      <td>muslims busted they stole millions in govt ben...</td>\n",
              "      <td>print they should pay all the back all the mon...</td>\n",
              "      <td>english</td>\n",
              "      <td>100percentfedup.com</td>\n",
              "      <td>http://bb4sp.com/wp-content/uploads/2016/10/Fu...</td>\n",
              "      <td>bias</td>\n",
              "      <td>Real</td>\n",
              "      <td>muslims busted stole millions govt benefits</td>\n",
              "      <td>print pay back money plus interest entire fami...</td>\n",
              "      <td>1.0</td>\n",
              "    </tr>\n",
              "    <tr>\n",
              "      <th>1</th>\n",
              "      <td>reasoning with facts</td>\n",
              "      <td>2016-10-29T08:47:11.259+03:00</td>\n",
              "      <td>re why did attorney general loretta lynch plea...</td>\n",
              "      <td>why did attorney general loretta lynch plead t...</td>\n",
              "      <td>english</td>\n",
              "      <td>100percentfedup.com</td>\n",
              "      <td>http://bb4sp.com/wp-content/uploads/2016/10/Fu...</td>\n",
              "      <td>bias</td>\n",
              "      <td>Real</td>\n",
              "      <td>attorney general loretta lynch plead fifth</td>\n",
              "      <td>attorney general loretta lynch plead fifth bar...</td>\n",
              "      <td>1.0</td>\n",
              "    </tr>\n",
              "    <tr>\n",
              "      <th>2</th>\n",
              "      <td>Barracuda Brigade</td>\n",
              "      <td>2016-10-31T01:41:49.479+02:00</td>\n",
              "      <td>breaking weiner cooperating with fbi on hillar...</td>\n",
              "      <td>red state  \\nfox news sunday reported this mor...</td>\n",
              "      <td>english</td>\n",
              "      <td>100percentfedup.com</td>\n",
              "      <td>http://bb4sp.com/wp-content/uploads/2016/10/Fu...</td>\n",
              "      <td>bias</td>\n",
              "      <td>Real</td>\n",
              "      <td>breaking weiner cooperating fbi hillary email ...</td>\n",
              "      <td>red state fox news sunday reported morning ant...</td>\n",
              "      <td>1.0</td>\n",
              "    </tr>\n",
              "    <tr>\n",
              "      <th>3</th>\n",
              "      <td>Fed Up</td>\n",
              "      <td>2016-11-01T05:22:00.000+02:00</td>\n",
              "      <td>pin drop speech by father of daughter kidnappe...</td>\n",
              "      <td>email kayla mueller was a prisoner and torture...</td>\n",
              "      <td>english</td>\n",
              "      <td>100percentfedup.com</td>\n",
              "      <td>http://100percentfedup.com/wp-content/uploads/...</td>\n",
              "      <td>bias</td>\n",
              "      <td>Real</td>\n",
              "      <td>pin drop speech father daughter kidnapped kill...</td>\n",
              "      <td>email kayla mueller prisoner tortured isis cha...</td>\n",
              "      <td>1.0</td>\n",
              "    </tr>\n",
              "    <tr>\n",
              "      <th>4</th>\n",
              "      <td>Fed Up</td>\n",
              "      <td>2016-11-01T21:56:00.000+02:00</td>\n",
              "      <td>fantastic trumps  point plan to reform healthc...</td>\n",
              "      <td>email healthcare reform to make america great ...</td>\n",
              "      <td>english</td>\n",
              "      <td>100percentfedup.com</td>\n",
              "      <td>http://100percentfedup.com/wp-content/uploads/...</td>\n",
              "      <td>bias</td>\n",
              "      <td>Real</td>\n",
              "      <td>fantastic trumps point plan reform healthcare ...</td>\n",
              "      <td>email healthcare reform make america great sin...</td>\n",
              "      <td>1.0</td>\n",
              "    </tr>\n",
              "  </tbody>\n",
              "</table>\n",
              "</div>\n",
              "      <button class=\"colab-df-convert\" onclick=\"convertToInteractive('df-56d84942-d05f-4dbe-801e-179de6f0590f')\"\n",
              "              title=\"Convert this dataframe to an interactive table.\"\n",
              "              style=\"display:none;\">\n",
              "        \n",
              "  <svg xmlns=\"http://www.w3.org/2000/svg\" height=\"24px\"viewBox=\"0 0 24 24\"\n",
              "       width=\"24px\">\n",
              "    <path d=\"M0 0h24v24H0V0z\" fill=\"none\"/>\n",
              "    <path d=\"M18.56 5.44l.94 2.06.94-2.06 2.06-.94-2.06-.94-.94-2.06-.94 2.06-2.06.94zm-11 1L8.5 8.5l.94-2.06 2.06-.94-2.06-.94L8.5 2.5l-.94 2.06-2.06.94zm10 10l.94 2.06.94-2.06 2.06-.94-2.06-.94-.94-2.06-.94 2.06-2.06.94z\"/><path d=\"M17.41 7.96l-1.37-1.37c-.4-.4-.92-.59-1.43-.59-.52 0-1.04.2-1.43.59L10.3 9.45l-7.72 7.72c-.78.78-.78 2.05 0 2.83L4 21.41c.39.39.9.59 1.41.59.51 0 1.02-.2 1.41-.59l7.78-7.78 2.81-2.81c.8-.78.8-2.07 0-2.86zM5.41 20L4 18.59l7.72-7.72 1.47 1.35L5.41 20z\"/>\n",
              "  </svg>\n",
              "      </button>\n",
              "      \n",
              "  <style>\n",
              "    .colab-df-container {\n",
              "      display:flex;\n",
              "      flex-wrap:wrap;\n",
              "      gap: 12px;\n",
              "    }\n",
              "\n",
              "    .colab-df-convert {\n",
              "      background-color: #E8F0FE;\n",
              "      border: none;\n",
              "      border-radius: 50%;\n",
              "      cursor: pointer;\n",
              "      display: none;\n",
              "      fill: #1967D2;\n",
              "      height: 32px;\n",
              "      padding: 0 0 0 0;\n",
              "      width: 32px;\n",
              "    }\n",
              "\n",
              "    .colab-df-convert:hover {\n",
              "      background-color: #E2EBFA;\n",
              "      box-shadow: 0px 1px 2px rgba(60, 64, 67, 0.3), 0px 1px 3px 1px rgba(60, 64, 67, 0.15);\n",
              "      fill: #174EA6;\n",
              "    }\n",
              "\n",
              "    [theme=dark] .colab-df-convert {\n",
              "      background-color: #3B4455;\n",
              "      fill: #D2E3FC;\n",
              "    }\n",
              "\n",
              "    [theme=dark] .colab-df-convert:hover {\n",
              "      background-color: #434B5C;\n",
              "      box-shadow: 0px 1px 3px 1px rgba(0, 0, 0, 0.15);\n",
              "      filter: drop-shadow(0px 1px 2px rgba(0, 0, 0, 0.3));\n",
              "      fill: #FFFFFF;\n",
              "    }\n",
              "  </style>\n",
              "\n",
              "      <script>\n",
              "        const buttonEl =\n",
              "          document.querySelector('#df-56d84942-d05f-4dbe-801e-179de6f0590f button.colab-df-convert');\n",
              "        buttonEl.style.display =\n",
              "          google.colab.kernel.accessAllowed ? 'block' : 'none';\n",
              "\n",
              "        async function convertToInteractive(key) {\n",
              "          const element = document.querySelector('#df-56d84942-d05f-4dbe-801e-179de6f0590f');\n",
              "          const dataTable =\n",
              "            await google.colab.kernel.invokeFunction('convertToInteractive',\n",
              "                                                     [key], {});\n",
              "          if (!dataTable) return;\n",
              "\n",
              "          const docLinkHtml = 'Like what you see? Visit the ' +\n",
              "            '<a target=\"_blank\" href=https://colab.research.google.com/notebooks/data_table.ipynb>data table notebook</a>'\n",
              "            + ' to learn more about interactive tables.';\n",
              "          element.innerHTML = '';\n",
              "          dataTable['output_type'] = 'display_data';\n",
              "          await google.colab.output.renderOutput(dataTable, element);\n",
              "          const docLink = document.createElement('div');\n",
              "          docLink.innerHTML = docLinkHtml;\n",
              "          element.appendChild(docLink);\n",
              "        }\n",
              "      </script>\n",
              "    </div>\n",
              "  </div>\n",
              "  "
            ]
          },
          "metadata": {},
          "execution_count": 98
        }
      ],
      "source": [
        "#import data\n",
        "data = pd.read_csv(\"news_articles.csv\")\n",
        "data.head()"
      ]
    },
    {
      "cell_type": "markdown",
      "metadata": {
        "id": "3KNFCngLoxn-"
      },
      "source": [
        "###**Description of Dataset:** <br>\n",
        "The dataset we are using comes from Kaggle. The attributes for each instance are:\n",
        "  * \"Author\" - (String) Author of the article\n",
        "  * \"Published\" - (String) Data the article was published\n",
        "  * \"Title\" - (String) Title of the article\n",
        "  * \"Text\" - (String) All of the text contained in the article\n",
        "  * \"Language\" - (String) Language the article is written in\n",
        "  * \"Site_url\" - (String) URL of the website hosting the article\n",
        "  * \"Main_img_url\" - (String) URL of the main image that appears on the webpage where the article is\n",
        "  * \"Type\" - (String) categorical value defining what type of article the instance is\n",
        "  * \"Label\" - (Classifier/Label) this is the label of each instance. The label is either \"Real\" or \"Fake\"\n",
        "  * \"Title_Without_Stopwords\" - (String) The title with stopwords removed\n",
        "  * \"Text_Without_Stopwords\" - (String) The text within the article with stopwords removed\n",
        "  * \"HasImage\" - (Binary) True or False depending on if the article has an image with it"
      ]
    },
    {
      "cell_type": "code",
      "execution_count": null,
      "metadata": {
        "colab": {
          "base_uri": "https://localhost:8080/"
        },
        "id": "MDD0oAzMjXXa",
        "outputId": "302b0715-8860-43cf-fd26-7d847389ea62"
      },
      "outputs": [
        {
          "output_type": "stream",
          "name": "stdout",
          "text": [
            "<class 'pandas.core.frame.DataFrame'>\n",
            "RangeIndex: 2096 entries, 0 to 2095\n",
            "Data columns (total 12 columns):\n",
            " #   Column                   Non-Null Count  Dtype  \n",
            "---  ------                   --------------  -----  \n",
            " 0   author                   2096 non-null   object \n",
            " 1   published                2096 non-null   object \n",
            " 2   title                    2096 non-null   object \n",
            " 3   text                     2050 non-null   object \n",
            " 4   language                 2095 non-null   object \n",
            " 5   site_url                 2095 non-null   object \n",
            " 6   main_img_url             2095 non-null   object \n",
            " 7   type                     2095 non-null   object \n",
            " 8   label                    2095 non-null   object \n",
            " 9   title_without_stopwords  2094 non-null   object \n",
            " 10  text_without_stopwords   2046 non-null   object \n",
            " 11  hasImage                 2095 non-null   float64\n",
            "dtypes: float64(1), object(11)\n",
            "memory usage: 196.6+ KB\n",
            "None\n",
            "(2096, 12)\n"
          ]
        }
      ],
      "source": [
        "#print some information about the dataset and the shape of the dataset\n",
        "print(data.info())\n",
        "print(data.shape)"
      ]
    },
    {
      "cell_type": "markdown",
      "metadata": {
        "id": "oUijbEw7lKvZ"
      },
      "source": [
        "###**Shape of Dataset**\n",
        "Our dataset has 2096 isntances with 12 attributes for each instance."
      ]
    },
    {
      "cell_type": "markdown",
      "metadata": {
        "id": "bGLHl6EOmx6v"
      },
      "source": [
        "**Counting missing values in each column**"
      ]
    },
    {
      "cell_type": "code",
      "execution_count": null,
      "metadata": {
        "colab": {
          "base_uri": "https://localhost:8080/"
        },
        "id": "Aso7q28jmBK_",
        "outputId": "7a13cab6-38b3-4db1-eb04-ca6a464c1997"
      },
      "outputs": [
        {
          "output_type": "execute_result",
          "data": {
            "text/plain": [
              "author                      0\n",
              "published                   0\n",
              "title                       0\n",
              "text                       46\n",
              "language                    1\n",
              "site_url                    1\n",
              "main_img_url                1\n",
              "type                        1\n",
              "label                       1\n",
              "title_without_stopwords     2\n",
              "text_without_stopwords     50\n",
              "hasImage                    1\n",
              "dtype: int64"
            ]
          },
          "metadata": {},
          "execution_count": 100
        }
      ],
      "source": [
        "#print sum of null values in each attribute of dataset\n",
        "data.isna().sum()"
      ]
    },
    {
      "cell_type": "markdown",
      "metadata": {
        "id": "efSkfDC3cIjw"
      },
      "source": [
        "**Drop Null Values**"
      ]
    },
    {
      "cell_type": "code",
      "execution_count": null,
      "metadata": {
        "id": "7Tua919ab9j9"
      },
      "outputs": [],
      "source": [
        "#drop null values\n",
        "new_data = data.dropna()"
      ]
    },
    {
      "cell_type": "code",
      "execution_count": null,
      "metadata": {
        "colab": {
          "base_uri": "https://localhost:8080/"
        },
        "id": "0jYnsoLquc0E",
        "outputId": "5fd31004-1b07-437e-ee11-973180ccafe4"
      },
      "outputs": [
        {
          "output_type": "execute_result",
          "data": {
            "text/plain": [
              "english    1967\n",
              "german       72\n",
              "ignore        3\n",
              "french        2\n",
              "spanish       1\n",
              "Name: language, dtype: int64"
            ]
          },
          "metadata": {},
          "execution_count": 102
        }
      ],
      "source": [
        "#visualize counts of languages\n",
        "new_data.language.value_counts()"
      ]
    },
    {
      "cell_type": "markdown",
      "metadata": {
        "id": "mR0tU0JmdvyR"
      },
      "source": [
        "**Here we set the dataset equal to only the instances where the article is written in English**"
      ]
    },
    {
      "cell_type": "code",
      "execution_count": null,
      "metadata": {
        "colab": {
          "base_uri": "https://localhost:8080/"
        },
        "id": "G7yIAD6tqeeg",
        "outputId": "f33e81cc-450b-43a3-b3b4-9979fc793fea"
      },
      "outputs": [
        {
          "output_type": "execute_result",
          "data": {
            "text/plain": [
              "author                     1967\n",
              "published                  1967\n",
              "title                      1967\n",
              "text                       1967\n",
              "language                   1967\n",
              "site_url                   1967\n",
              "main_img_url               1967\n",
              "type                       1967\n",
              "label                      1967\n",
              "title_without_stopwords    1967\n",
              "text_without_stopwords     1967\n",
              "hasImage                   1967\n",
              "dtype: int64"
            ]
          },
          "metadata": {},
          "execution_count": 103
        }
      ],
      "source": [
        "#set dataset equal to only the instances where the article is written in english\n",
        "new_data = new_data.query(\"language == 'english'\")\n",
        "new_data.count()"
      ]
    },
    {
      "cell_type": "markdown",
      "metadata": {
        "id": "eTlrKPeOnISx"
      },
      "source": [
        "###**Understanding the Variables**"
      ]
    },
    {
      "cell_type": "code",
      "execution_count": null,
      "metadata": {
        "colab": {
          "base_uri": "https://localhost:8080/"
        },
        "id": "KcvODVlWwqjr",
        "outputId": "18a26f64-a7dd-47af-e258-b680c2445445"
      },
      "outputs": [
        {
          "output_type": "execute_result",
          "data": {
            "text/plain": [
              "array(['bias', 'conspiracy', 'fake', 'bs', 'satire', 'hate', 'junksci',\n",
              "       'state'], dtype=object)"
            ]
          },
          "metadata": {},
          "execution_count": 104
        }
      ],
      "source": [
        "#print the unique values for the attribute type\n",
        "new_data['type'].unique()"
      ]
    },
    {
      "cell_type": "markdown",
      "metadata": {
        "id": "0_LUrdeseF33"
      },
      "source": [
        "**Possible types of articles:**\n",
        "  * Bias\n",
        "  * Conspiracy\n",
        "  * Fake\n",
        "  * BS\n",
        "  * Satire\n",
        "  * Hate\n",
        "  * JunkSci\n",
        "  * State"
      ]
    },
    {
      "cell_type": "markdown",
      "metadata": {
        "id": "6ZkWMcWtfmxV"
      },
      "source": [
        "**Count how many of each type to help visualize the dataset:**"
      ]
    },
    {
      "cell_type": "code",
      "execution_count": null,
      "metadata": {
        "colab": {
          "base_uri": "https://localhost:8080/"
        },
        "id": "uvq1umlnLKz5",
        "outputId": "7871dfbd-e876-4c6e-8cb8-af91f009e78a"
      },
      "outputs": [
        {
          "output_type": "stream",
          "name": "stdout",
          "text": [
            "bs:\t524\n",
            "conspiracy:\t430\n",
            "bias:\t389\n",
            "hate:\t241\n",
            "satire:\t146\n",
            "state:\t120\n",
            "junksci:\t102\n",
            "fake:\t15\n",
            "Total Records:\t1967\n"
          ]
        },
        {
          "output_type": "stream",
          "name": "stderr",
          "text": [
            "<ipython-input-105-cea37c7b417e>:2: FutureWarning:\n",
            "\n",
            "iteritems is deprecated and will be removed in a future version. Use .items instead.\n",
            "\n"
          ]
        }
      ],
      "source": [
        "#Counting by types\n",
        "for key,count in new_data.type.value_counts().iteritems():\n",
        "    print(f\"{key}:\\t{count}\")\n",
        "\n",
        "#Getting Total Rows\n",
        "print(f\"Total Records:\\t{new_data.shape[0]}\")"
      ]
    },
    {
      "cell_type": "markdown",
      "metadata": {
        "id": "yJ26fchmgm_W"
      },
      "source": [
        "####**Visualizing the data**"
      ]
    },
    {
      "cell_type": "code",
      "execution_count": null,
      "metadata": {
        "colab": {
          "base_uri": "https://localhost:8080/"
        },
        "id": "oTun07Mdic2i",
        "outputId": "43f31859-892b-4006-9a6b-bbdb71735f80"
      },
      "outputs": [
        {
          "output_type": "display_data",
          "data": {
            "text/html": [
              "<html>\n",
              "<head><meta charset=\"utf-8\" /></head>\n",
              "<body>\n",
              "    <div>            <script src=\"https://cdnjs.cloudflare.com/ajax/libs/mathjax/2.7.5/MathJax.js?config=TeX-AMS-MML_SVG\"></script><script type=\"text/javascript\">if (window.MathJax && window.MathJax.Hub && window.MathJax.Hub.Config) {window.MathJax.Hub.Config({SVG: {font: \"STIX-Web\"}});}</script>                <script type=\"text/javascript\">window.PlotlyConfig = {MathJaxConfig: 'local'};</script>\n",
              "        <script src=\"https://cdn.plot.ly/plotly-2.18.2.min.js\"></script>                <div id=\"fdaa0161-d196-4488-8d44-47a592712e07\" class=\"plotly-graph-div\" style=\"height:525px; width:100%;\"></div>            <script type=\"text/javascript\">                                    window.PLOTLYENV=window.PLOTLYENV || {};                                    if (document.getElementById(\"fdaa0161-d196-4488-8d44-47a592712e07\")) {                    Plotly.newPlot(                        \"fdaa0161-d196-4488-8d44-47a592712e07\",                        [{\"branchvalues\":\"total\",\"domain\":{\"x\":[0.0,1.0],\"y\":[0.0,1.0]},\"hovertemplate\":\"labels=%{label}<br>count=%{value}<br>parent=%{parent}<br>id=%{id}<extra></extra>\",\"ids\":[\"Real/bias\",\"Fake/bs\",\"Fake/conspiracy\",\"Fake/fake\",\"Real/hate\",\"Fake/junksci\",\"Fake/satire\",\"Real/state\",\"Fake\",\"Real\"],\"labels\":[\"bias\",\"bs\",\"conspiracy\",\"fake\",\"hate\",\"junksci\",\"satire\",\"state\",\"Fake\",\"Real\"],\"name\":\"\",\"parents\":[\"Real\",\"Fake\",\"Fake\",\"Fake\",\"Real\",\"Fake\",\"Fake\",\"Real\",\"\",\"\"],\"values\":[389,524,430,15,241,102,146,120,1217,750],\"type\":\"sunburst\"}],                        {\"template\":{\"data\":{\"histogram2dcontour\":[{\"type\":\"histogram2dcontour\",\"colorbar\":{\"outlinewidth\":0,\"ticks\":\"\"},\"colorscale\":[[0.0,\"#0d0887\"],[0.1111111111111111,\"#46039f\"],[0.2222222222222222,\"#7201a8\"],[0.3333333333333333,\"#9c179e\"],[0.4444444444444444,\"#bd3786\"],[0.5555555555555556,\"#d8576b\"],[0.6666666666666666,\"#ed7953\"],[0.7777777777777778,\"#fb9f3a\"],[0.8888888888888888,\"#fdca26\"],[1.0,\"#f0f921\"]]}],\"choropleth\":[{\"type\":\"choropleth\",\"colorbar\":{\"outlinewidth\":0,\"ticks\":\"\"}}],\"histogram2d\":[{\"type\":\"histogram2d\",\"colorbar\":{\"outlinewidth\":0,\"ticks\":\"\"},\"colorscale\":[[0.0,\"#0d0887\"],[0.1111111111111111,\"#46039f\"],[0.2222222222222222,\"#7201a8\"],[0.3333333333333333,\"#9c179e\"],[0.4444444444444444,\"#bd3786\"],[0.5555555555555556,\"#d8576b\"],[0.6666666666666666,\"#ed7953\"],[0.7777777777777778,\"#fb9f3a\"],[0.8888888888888888,\"#fdca26\"],[1.0,\"#f0f921\"]]}],\"heatmap\":[{\"type\":\"heatmap\",\"colorbar\":{\"outlinewidth\":0,\"ticks\":\"\"},\"colorscale\":[[0.0,\"#0d0887\"],[0.1111111111111111,\"#46039f\"],[0.2222222222222222,\"#7201a8\"],[0.3333333333333333,\"#9c179e\"],[0.4444444444444444,\"#bd3786\"],[0.5555555555555556,\"#d8576b\"],[0.6666666666666666,\"#ed7953\"],[0.7777777777777778,\"#fb9f3a\"],[0.8888888888888888,\"#fdca26\"],[1.0,\"#f0f921\"]]}],\"heatmapgl\":[{\"type\":\"heatmapgl\",\"colorbar\":{\"outlinewidth\":0,\"ticks\":\"\"},\"colorscale\":[[0.0,\"#0d0887\"],[0.1111111111111111,\"#46039f\"],[0.2222222222222222,\"#7201a8\"],[0.3333333333333333,\"#9c179e\"],[0.4444444444444444,\"#bd3786\"],[0.5555555555555556,\"#d8576b\"],[0.6666666666666666,\"#ed7953\"],[0.7777777777777778,\"#fb9f3a\"],[0.8888888888888888,\"#fdca26\"],[1.0,\"#f0f921\"]]}],\"contourcarpet\":[{\"type\":\"contourcarpet\",\"colorbar\":{\"outlinewidth\":0,\"ticks\":\"\"}}],\"contour\":[{\"type\":\"contour\",\"colorbar\":{\"outlinewidth\":0,\"ticks\":\"\"},\"colorscale\":[[0.0,\"#0d0887\"],[0.1111111111111111,\"#46039f\"],[0.2222222222222222,\"#7201a8\"],[0.3333333333333333,\"#9c179e\"],[0.4444444444444444,\"#bd3786\"],[0.5555555555555556,\"#d8576b\"],[0.6666666666666666,\"#ed7953\"],[0.7777777777777778,\"#fb9f3a\"],[0.8888888888888888,\"#fdca26\"],[1.0,\"#f0f921\"]]}],\"surface\":[{\"type\":\"surface\",\"colorbar\":{\"outlinewidth\":0,\"ticks\":\"\"},\"colorscale\":[[0.0,\"#0d0887\"],[0.1111111111111111,\"#46039f\"],[0.2222222222222222,\"#7201a8\"],[0.3333333333333333,\"#9c179e\"],[0.4444444444444444,\"#bd3786\"],[0.5555555555555556,\"#d8576b\"],[0.6666666666666666,\"#ed7953\"],[0.7777777777777778,\"#fb9f3a\"],[0.8888888888888888,\"#fdca26\"],[1.0,\"#f0f921\"]]}],\"mesh3d\":[{\"type\":\"mesh3d\",\"colorbar\":{\"outlinewidth\":0,\"ticks\":\"\"}}],\"scatter\":[{\"fillpattern\":{\"fillmode\":\"overlay\",\"size\":10,\"solidity\":0.2},\"type\":\"scatter\"}],\"parcoords\":[{\"type\":\"parcoords\",\"line\":{\"colorbar\":{\"outlinewidth\":0,\"ticks\":\"\"}}}],\"scatterpolargl\":[{\"type\":\"scatterpolargl\",\"marker\":{\"colorbar\":{\"outlinewidth\":0,\"ticks\":\"\"}}}],\"bar\":[{\"error_x\":{\"color\":\"#2a3f5f\"},\"error_y\":{\"color\":\"#2a3f5f\"},\"marker\":{\"line\":{\"color\":\"#E5ECF6\",\"width\":0.5},\"pattern\":{\"fillmode\":\"overlay\",\"size\":10,\"solidity\":0.2}},\"type\":\"bar\"}],\"scattergeo\":[{\"type\":\"scattergeo\",\"marker\":{\"colorbar\":{\"outlinewidth\":0,\"ticks\":\"\"}}}],\"scatterpolar\":[{\"type\":\"scatterpolar\",\"marker\":{\"colorbar\":{\"outlinewidth\":0,\"ticks\":\"\"}}}],\"histogram\":[{\"marker\":{\"pattern\":{\"fillmode\":\"overlay\",\"size\":10,\"solidity\":0.2}},\"type\":\"histogram\"}],\"scattergl\":[{\"type\":\"scattergl\",\"marker\":{\"colorbar\":{\"outlinewidth\":0,\"ticks\":\"\"}}}],\"scatter3d\":[{\"type\":\"scatter3d\",\"line\":{\"colorbar\":{\"outlinewidth\":0,\"ticks\":\"\"}},\"marker\":{\"colorbar\":{\"outlinewidth\":0,\"ticks\":\"\"}}}],\"scattermapbox\":[{\"type\":\"scattermapbox\",\"marker\":{\"colorbar\":{\"outlinewidth\":0,\"ticks\":\"\"}}}],\"scatterternary\":[{\"type\":\"scatterternary\",\"marker\":{\"colorbar\":{\"outlinewidth\":0,\"ticks\":\"\"}}}],\"scattercarpet\":[{\"type\":\"scattercarpet\",\"marker\":{\"colorbar\":{\"outlinewidth\":0,\"ticks\":\"\"}}}],\"carpet\":[{\"aaxis\":{\"endlinecolor\":\"#2a3f5f\",\"gridcolor\":\"white\",\"linecolor\":\"white\",\"minorgridcolor\":\"white\",\"startlinecolor\":\"#2a3f5f\"},\"baxis\":{\"endlinecolor\":\"#2a3f5f\",\"gridcolor\":\"white\",\"linecolor\":\"white\",\"minorgridcolor\":\"white\",\"startlinecolor\":\"#2a3f5f\"},\"type\":\"carpet\"}],\"table\":[{\"cells\":{\"fill\":{\"color\":\"#EBF0F8\"},\"line\":{\"color\":\"white\"}},\"header\":{\"fill\":{\"color\":\"#C8D4E3\"},\"line\":{\"color\":\"white\"}},\"type\":\"table\"}],\"barpolar\":[{\"marker\":{\"line\":{\"color\":\"#E5ECF6\",\"width\":0.5},\"pattern\":{\"fillmode\":\"overlay\",\"size\":10,\"solidity\":0.2}},\"type\":\"barpolar\"}],\"pie\":[{\"automargin\":true,\"type\":\"pie\"}]},\"layout\":{\"autotypenumbers\":\"strict\",\"colorway\":[\"#636efa\",\"#EF553B\",\"#00cc96\",\"#ab63fa\",\"#FFA15A\",\"#19d3f3\",\"#FF6692\",\"#B6E880\",\"#FF97FF\",\"#FECB52\"],\"font\":{\"color\":\"#2a3f5f\"},\"hovermode\":\"closest\",\"hoverlabel\":{\"align\":\"left\"},\"paper_bgcolor\":\"white\",\"plot_bgcolor\":\"#E5ECF6\",\"polar\":{\"bgcolor\":\"#E5ECF6\",\"angularaxis\":{\"gridcolor\":\"white\",\"linecolor\":\"white\",\"ticks\":\"\"},\"radialaxis\":{\"gridcolor\":\"white\",\"linecolor\":\"white\",\"ticks\":\"\"}},\"ternary\":{\"bgcolor\":\"#E5ECF6\",\"aaxis\":{\"gridcolor\":\"white\",\"linecolor\":\"white\",\"ticks\":\"\"},\"baxis\":{\"gridcolor\":\"white\",\"linecolor\":\"white\",\"ticks\":\"\"},\"caxis\":{\"gridcolor\":\"white\",\"linecolor\":\"white\",\"ticks\":\"\"}},\"coloraxis\":{\"colorbar\":{\"outlinewidth\":0,\"ticks\":\"\"}},\"colorscale\":{\"sequential\":[[0.0,\"#0d0887\"],[0.1111111111111111,\"#46039f\"],[0.2222222222222222,\"#7201a8\"],[0.3333333333333333,\"#9c179e\"],[0.4444444444444444,\"#bd3786\"],[0.5555555555555556,\"#d8576b\"],[0.6666666666666666,\"#ed7953\"],[0.7777777777777778,\"#fb9f3a\"],[0.8888888888888888,\"#fdca26\"],[1.0,\"#f0f921\"]],\"sequentialminus\":[[0.0,\"#0d0887\"],[0.1111111111111111,\"#46039f\"],[0.2222222222222222,\"#7201a8\"],[0.3333333333333333,\"#9c179e\"],[0.4444444444444444,\"#bd3786\"],[0.5555555555555556,\"#d8576b\"],[0.6666666666666666,\"#ed7953\"],[0.7777777777777778,\"#fb9f3a\"],[0.8888888888888888,\"#fdca26\"],[1.0,\"#f0f921\"]],\"diverging\":[[0,\"#8e0152\"],[0.1,\"#c51b7d\"],[0.2,\"#de77ae\"],[0.3,\"#f1b6da\"],[0.4,\"#fde0ef\"],[0.5,\"#f7f7f7\"],[0.6,\"#e6f5d0\"],[0.7,\"#b8e186\"],[0.8,\"#7fbc41\"],[0.9,\"#4d9221\"],[1,\"#276419\"]]},\"xaxis\":{\"gridcolor\":\"white\",\"linecolor\":\"white\",\"ticks\":\"\",\"title\":{\"standoff\":15},\"zerolinecolor\":\"white\",\"automargin\":true,\"zerolinewidth\":2},\"yaxis\":{\"gridcolor\":\"white\",\"linecolor\":\"white\",\"ticks\":\"\",\"title\":{\"standoff\":15},\"zerolinecolor\":\"white\",\"automargin\":true,\"zerolinewidth\":2},\"scene\":{\"xaxis\":{\"backgroundcolor\":\"#E5ECF6\",\"gridcolor\":\"white\",\"linecolor\":\"white\",\"showbackground\":true,\"ticks\":\"\",\"zerolinecolor\":\"white\",\"gridwidth\":2},\"yaxis\":{\"backgroundcolor\":\"#E5ECF6\",\"gridcolor\":\"white\",\"linecolor\":\"white\",\"showbackground\":true,\"ticks\":\"\",\"zerolinecolor\":\"white\",\"gridwidth\":2},\"zaxis\":{\"backgroundcolor\":\"#E5ECF6\",\"gridcolor\":\"white\",\"linecolor\":\"white\",\"showbackground\":true,\"ticks\":\"\",\"zerolinecolor\":\"white\",\"gridwidth\":2}},\"shapedefaults\":{\"line\":{\"color\":\"#2a3f5f\"}},\"annotationdefaults\":{\"arrowcolor\":\"#2a3f5f\",\"arrowhead\":0,\"arrowwidth\":1},\"geo\":{\"bgcolor\":\"white\",\"landcolor\":\"#E5ECF6\",\"subunitcolor\":\"white\",\"showland\":true,\"showlakes\":true,\"lakecolor\":\"white\"},\"title\":{\"x\":0.05},\"mapbox\":{\"style\":\"light\"}}},\"legend\":{\"tracegroupgap\":0},\"margin\":{\"t\":60}},                        {\"responsive\": true}                    ).then(function(){\n",
              "                            \n",
              "var gd = document.getElementById('fdaa0161-d196-4488-8d44-47a592712e07');\n",
              "var x = new MutationObserver(function (mutations, observer) {{\n",
              "        var display = window.getComputedStyle(gd).display;\n",
              "        if (!display || display === 'none') {{\n",
              "            console.log([gd, 'removed!']);\n",
              "            Plotly.purge(gd);\n",
              "            observer.disconnect();\n",
              "        }}\n",
              "}});\n",
              "\n",
              "// Listen for the removal of the full notebook cells\n",
              "var notebookContainer = gd.closest('#notebook-container');\n",
              "if (notebookContainer) {{\n",
              "    x.observe(notebookContainer, {childList: true});\n",
              "}}\n",
              "\n",
              "// Listen for the clearing of the current output cell\n",
              "var outputEl = gd.closest('.output');\n",
              "if (outputEl) {{\n",
              "    x.observe(outputEl, {childList: true});\n",
              "}}\n",
              "\n",
              "                        })                };                            </script>        </div>\n",
              "</body>\n",
              "</html>"
            ]
          },
          "metadata": {}
        }
      ],
      "source": [
        "#sunburst chart to show label vs type\n",
        "fig = px.sunburst(new_data, path=['label', 'type'])\n",
        "fig.show()"
      ]
    },
    {
      "cell_type": "markdown",
      "source": [
        "###**A Step Further Into the Data**"
      ],
      "metadata": {
        "id": "KJNRoZn52aEh"
      }
    },
    {
      "cell_type": "markdown",
      "source": [
        "**Here we implement a couple functions so we can look further into \"Text\" attribute.**"
      ],
      "metadata": {
        "id": "2vI5atyO3POO"
      }
    },
    {
      "cell_type": "code",
      "execution_count": null,
      "metadata": {
        "id": "8oopgZHotzUp"
      },
      "outputs": [],
      "source": [
        "#function to get top unigrams\n",
        "def get_top_words(corpus, n=None):\n",
        "    vec = CountVectorizer(stop_words='english').fit(corpus)\n",
        "    bag_of_words = vec.transform(corpus)\n",
        "    sum_words = bag_of_words.sum(axis=0)\n",
        "    words_freq = [(word, sum_words[0, idx]) for word, idx in vec.vocabulary_.items()]\n",
        "    words_freq = sorted(words_freq, key=lambda x: x[1], reverse=True)\n",
        "    return words_freq[:n]"
      ]
    },
    {
      "cell_type": "code",
      "execution_count": null,
      "metadata": {
        "id": "fpgqrdaM25qM"
      },
      "outputs": [],
      "source": [
        "#function to get top bigrams\n",
        "def get_top_bigram(corpus, n=None):\n",
        "    vec = CountVectorizer(stop_words='english', ngram_range=(2, 2)).fit(corpus)\n",
        "    bag_of_words = vec.transform(corpus)\n",
        "    sum_words = bag_of_words.sum(axis=0)\n",
        "    words_freq = [(word, sum_words[0, idx]) for word, idx in vec.vocabulary_.items()]\n",
        "    words_freq =sorted(words_freq, key = lambda x: x[1], reverse=True)\n",
        "    return words_freq[:n]"
      ]
    },
    {
      "cell_type": "markdown",
      "source": [
        "**Using the functions we just made, we plot a bar graph depicted the top unigrams in the \"Text\" attribute.**"
      ],
      "metadata": {
        "id": "HVO41Z6p4470"
      }
    },
    {
      "cell_type": "code",
      "execution_count": null,
      "metadata": {
        "colab": {
          "base_uri": "https://localhost:8080/"
        },
        "id": "fz9T1iXrt7Wz",
        "outputId": "f0a62325-afcb-495e-ea3f-f61ab1814f39"
      },
      "outputs": [
        {
          "output_type": "display_data",
          "data": {
            "text/plain": [
              "<Figure size 640x480 with 1 Axes>"
            ],
            "image/png": "[encoded data removed]"
          },
          "metadata": {}
        }
      ],
      "source": [
        "# Get the top 30 unigrams from the 'text' column\n",
        "common_words = get_top_words(new_data['text'], 30)\n",
        "\n",
        "# Create a DataFrame from the list of common words\n",
        "df = pd.DataFrame(common_words, columns=['word', 'count'])\n",
        "\n",
        "# Sort the DataFrame in descending order by 'count'\n",
        "df = df.sort_values('count', ascending=False)\n",
        "\n",
        "# Create a bar chart using Matplotlib\n",
        "plt.bar(df['word'], df['count'], color='blue')\n",
        "plt.xticks(rotation=90)\n",
        "plt.title('Top 30 unigrams used in articles')\n",
        "plt.xlabel('Word')\n",
        "plt.ylabel('Count')\n",
        "plt.show()\n",
        "\n"
      ]
    },
    {
      "cell_type": "code",
      "execution_count": null,
      "metadata": {
        "colab": {
          "base_uri": "https://localhost:8080/"
        },
        "id": "stWuJ2-JLGgA",
        "outputId": "598f6013-7c05-47c9-b3da-fc1da88711d9"
      },
      "outputs": [
        {
          "output_type": "execute_result",
          "data": {
            "text/plain": [
              "      word  count\n",
              "0    trump   3336\n",
              "1  clinton   3049\n",
              "2     said   2337\n",
              "3   people   2294\n",
              "4  hillary   2035"
            ],
            "text/html": [
              "\n",
              "  <div id=\"df-3b2531af-e8a4-463e-b2e2-e9350e0447c7\">\n",
              "    <div class=\"colab-df-container\">\n",
              "      <div>\n",
              "<style scoped>\n",
              "    .dataframe tbody tr th:only-of-type {\n",
              "        vertical-align: middle;\n",
              "    }\n",
              "\n",
              "    .dataframe tbody tr th {\n",
              "        vertical-align: top;\n",
              "    }\n",
              "\n",
              "    .dataframe thead th {\n",
              "        text-align: right;\n",
              "    }\n",
              "</style>\n",
              "<table border=\"1\" class=\"dataframe\">\n",
              "  <thead>\n",
              "    <tr style=\"text-align: right;\">\n",
              "      <th></th>\n",
              "      <th>word</th>\n",
              "      <th>count</th>\n",
              "    </tr>\n",
              "  </thead>\n",
              "  <tbody>\n",
              "    <tr>\n",
              "      <th>0</th>\n",
              "      <td>trump</td>\n",
              "      <td>3336</td>\n",
              "    </tr>\n",
              "    <tr>\n",
              "      <th>1</th>\n",
              "      <td>clinton</td>\n",
              "      <td>3049</td>\n",
              "    </tr>\n",
              "    <tr>\n",
              "      <th>2</th>\n",
              "      <td>said</td>\n",
              "      <td>2337</td>\n",
              "    </tr>\n",
              "    <tr>\n",
              "      <th>3</th>\n",
              "      <td>people</td>\n",
              "      <td>2294</td>\n",
              "    </tr>\n",
              "    <tr>\n",
              "      <th>4</th>\n",
              "      <td>hillary</td>\n",
              "      <td>2035</td>\n",
              "    </tr>\n",
              "  </tbody>\n",
              "</table>\n",
              "</div>\n",
              "      <button class=\"colab-df-convert\" onclick=\"convertToInteractive('df-3b2531af-e8a4-463e-b2e2-e9350e0447c7')\"\n",
              "              title=\"Convert this dataframe to an interactive table.\"\n",
              "              style=\"display:none;\">\n",
              "        \n",
              "  <svg xmlns=\"http://www.w3.org/2000/svg\" height=\"24px\"viewBox=\"0 0 24 24\"\n",
              "       width=\"24px\">\n",
              "    <path d=\"M0 0h24v24H0V0z\" fill=\"none\"/>\n",
              "    <path d=\"M18.56 5.44l.94 2.06.94-2.06 2.06-.94-2.06-.94-.94-2.06-.94 2.06-2.06.94zm-11 1L8.5 8.5l.94-2.06 2.06-.94-2.06-.94L8.5 2.5l-.94 2.06-2.06.94zm10 10l.94 2.06.94-2.06 2.06-.94-2.06-.94-.94-2.06-.94 2.06-2.06.94z\"/><path d=\"M17.41 7.96l-1.37-1.37c-.4-.4-.92-.59-1.43-.59-.52 0-1.04.2-1.43.59L10.3 9.45l-7.72 7.72c-.78.78-.78 2.05 0 2.83L4 21.41c.39.39.9.59 1.41.59.51 0 1.02-.2 1.41-.59l7.78-7.78 2.81-2.81c.8-.78.8-2.07 0-2.86zM5.41 20L4 18.59l7.72-7.72 1.47 1.35L5.41 20z\"/>\n",
              "  </svg>\n",
              "      </button>\n",
              "      \n",
              "  <style>\n",
              "    .colab-df-container {\n",
              "      display:flex;\n",
              "      flex-wrap:wrap;\n",
              "      gap: 12px;\n",
              "    }\n",
              "\n",
              "    .colab-df-convert {\n",
              "      background-color: #E8F0FE;\n",
              "      border: none;\n",
              "      border-radius: 50%;\n",
              "      cursor: pointer;\n",
              "      display: none;\n",
              "      fill: #1967D2;\n",
              "      height: 32px;\n",
              "      padding: 0 0 0 0;\n",
              "      width: 32px;\n",
              "    }\n",
              "\n",
              "    .colab-df-convert:hover {\n",
              "      background-color: #E2EBFA;\n",
              "      box-shadow: 0px 1px 2px rgba(60, 64, 67, 0.3), 0px 1px 3px 1px rgba(60, 64, 67, 0.15);\n",
              "      fill: #174EA6;\n",
              "    }\n",
              "\n",
              "    [theme=dark] .colab-df-convert {\n",
              "      background-color: #3B4455;\n",
              "      fill: #D2E3FC;\n",
              "    }\n",
              "\n",
              "    [theme=dark] .colab-df-convert:hover {\n",
              "      background-color: #434B5C;\n",
              "      box-shadow: 0px 1px 3px 1px rgba(0, 0, 0, 0.15);\n",
              "      filter: drop-shadow(0px 1px 2px rgba(0, 0, 0, 0.3));\n",
              "      fill: #FFFFFF;\n",
              "    }\n",
              "  </style>\n",
              "\n",
              "      <script>\n",
              "        const buttonEl =\n",
              "          document.querySelector('#df-3b2531af-e8a4-463e-b2e2-e9350e0447c7 button.colab-df-convert');\n",
              "        buttonEl.style.display =\n",
              "          google.colab.kernel.accessAllowed ? 'block' : 'none';\n",
              "\n",
              "        async function convertToInteractive(key) {\n",
              "          const element = document.querySelector('#df-3b2531af-e8a4-463e-b2e2-e9350e0447c7');\n",
              "          const dataTable =\n",
              "            await google.colab.kernel.invokeFunction('convertToInteractive',\n",
              "                                                     [key], {});\n",
              "          if (!dataTable) return;\n",
              "\n",
              "          const docLinkHtml = 'Like what you see? Visit the ' +\n",
              "            '<a target=\"_blank\" href=https://colab.research.google.com/notebooks/data_table.ipynb>data table notebook</a>'\n",
              "            + ' to learn more about interactive tables.';\n",
              "          element.innerHTML = '';\n",
              "          dataTable['output_type'] = 'display_data';\n",
              "          await google.colab.output.renderOutput(dataTable, element);\n",
              "          const docLink = document.createElement('div');\n",
              "          docLink.innerHTML = docLinkHtml;\n",
              "          element.appendChild(docLink);\n",
              "        }\n",
              "      </script>\n",
              "    </div>\n",
              "  </div>\n",
              "  "
            ]
          },
          "metadata": {},
          "execution_count": 110
        }
      ],
      "source": [
        "#print top unigrams throughout all of the text attributes\n",
        "df.head()"
      ]
    },
    {
      "cell_type": "code",
      "execution_count": null,
      "metadata": {
        "colab": {
          "base_uri": "https://localhost:8080/"
        },
        "id": "sbGhBGMj3Btr",
        "outputId": "8f65e5a0-340c-484f-f6e6-9d7ed6b28580"
      },
      "outputs": [
        {
          "output_type": "display_data",
          "data": {
            "text/plain": [
              "<Figure size 640x480 with 1 Axes>"
            ],
            "image/png": "[encoded data removed]"
          },
          "metadata": {}
        }
      ],
      "source": [
        "common_words2 = get_top_bigram(new_data['text'], 30)\n",
        "df2 = pd.DataFrame(common_words2, columns=['word', 'count'])\n",
        "\n",
        "# Sort the DataFrame in descending order by 'count'\n",
        "df2 = df2.sort_values('count', ascending=False)\n",
        "\n",
        "# Create a bar chart using Matplotlib\n",
        "plt.bar(df2['word'], df2['count'], color='blue')\n",
        "plt.xticks(rotation=90)\n",
        "plt.title('Top 30 bigrams used in articles title')\n",
        "plt.xlabel('Word')\n",
        "plt.ylabel('Count')\n",
        "plt.show()"
      ]
    },
    {
      "cell_type": "markdown",
      "metadata": {
        "id": "gVpnepFAUrkQ"
      },
      "source": [
        "#**Train Models**\n"
      ]
    },
    {
      "cell_type": "markdown",
      "source": [
        "**Configuring dataset for models**"
      ],
      "metadata": {
        "id": "i3k2GhjvJBLy"
      }
    },
    {
      "cell_type": "code",
      "source": [
        "type1 = {'bias': 0, 'conspiracy': 1,'fake': 2,'bs': 3,'satire': 4, 'hate': 5,'junksci': 6, 'state': 7}\n",
        "new_data.type = [type1[item] for item in new_data.type]"
      ],
      "metadata": {
        "id": "CfnTUnGJAOYc"
      },
      "execution_count": null,
      "outputs": []
    },
    {
      "cell_type": "code",
      "execution_count": null,
      "metadata": {
        "id": "xYeHki7ELlWC"
      },
      "outputs": [],
      "source": [
        "#create new variable in the dataset for the frequency of the top two unigrams\n",
        "new_data['trump_frequency'] = new_data['text_without_stopwords'].str.count(r'\\b[Tt]rump\\b')\n",
        "new_data['clinton_frequency'] = new_data['text_without_stopwords'].str.count(r'\\b[Cc]linton\\b')"
      ]
    },
    {
      "cell_type": "markdown",
      "source": [
        "**Set up X and Y values**"
      ],
      "metadata": {
        "id": "SALifeHI6pj5"
      }
    },
    {
      "cell_type": "code",
      "execution_count": null,
      "metadata": {
        "id": "a_cxxPRwZzN9"
      },
      "outputs": [],
      "source": [
        "#set up our X and Y values\n",
        "X = new_data.drop(['label', 'language'], axis=1) #drop language attribute\n",
        "y = new_data['label']"
      ]
    },
    {
      "cell_type": "markdown",
      "source": [
        "**Here we split our data into a training and a testing set.**"
      ],
      "metadata": {
        "id": "GfVIzvmv6zq4"
      }
    },
    {
      "cell_type": "code",
      "execution_count": null,
      "metadata": {
        "id": "NWHe6n3wC-mi"
      },
      "outputs": [],
      "source": [
        "# Split the data into training and testing sets\n",
        "X_train, X_test, y_train, y_test = train_test_split(X, y, test_size=0.2, random_state=42)"
      ]
    },
    {
      "cell_type": "markdown",
      "metadata": {
        "id": "lgPQAA2nEfNb"
      },
      "source": [
        "##**SVC Model**\n",
        "\n"
      ]
    },
    {
      "cell_type": "markdown",
      "source": [
        "**Here we perform some preprocessing to set the dataset up to be used for our models.**"
      ],
      "metadata": {
        "id": "rjscoZy37ha0"
      }
    },
    {
      "cell_type": "code",
      "execution_count": null,
      "metadata": {
        "id": "FesIC6OoZ7tH"
      },
      "outputs": [],
      "source": [
        "# Define the column transformer with the necessary preprocessing steps\n",
        "preprocessor = ColumnTransformer([\n",
        "    ('num', SimpleImputer(strategy='median'), ['type', 'hasImage']),\n",
        "    ('text', TfidfVectorizer(stop_words='english'), 'text_without_stopwords')\n",
        "])"
      ]
    },
    {
      "cell_type": "code",
      "execution_count": null,
      "metadata": {
        "id": "JGeJKdOFaJsX"
      },
      "outputs": [],
      "source": [
        "# Preprocess the features using the column transformer\n",
        "X_train_preprocessed = preprocessor.fit_transform(X_train)\n",
        "# Preprocess the features using the column transformer on the testing set\n",
        "X_test_preprocessed = preprocessor.transform(X_test)"
      ]
    },
    {
      "cell_type": "markdown",
      "source": [
        "**Here we create our SVC model**"
      ],
      "metadata": {
        "id": "AqwaYMmZ8RJC"
      }
    },
    {
      "cell_type": "code",
      "execution_count": null,
      "metadata": {
        "colab": {
          "base_uri": "https://localhost:8080/"
        },
        "id": "nv-1CBLLwBBU",
        "outputId": "ba7f6463-9e7a-48a4-9552-a00b225f24f7"
      },
      "outputs": [
        {
          "output_type": "stream",
          "name": "stdout",
          "text": [
            "SVM accuracy: 0.9974570883661793\n"
          ]
        }
      ],
      "source": [
        "# Train an SVM model on the preprocessed training set and evaluate it on the preprocessed testing set\n",
        "svm_model = SVC(kernel='linear', C=100)\n",
        "svm_model.fit(X_train_preprocessed, y_train)\n",
        "svm_score = svm_model.score(X_train_preprocessed, y_train)\n",
        "print('SVM accuracy:', svm_score)"
      ]
    },
    {
      "cell_type": "markdown",
      "source": [
        "**Here we go ahead and test the model on our test data before we implement HPO so we can get a baseline and measure the difference HPO has.**"
      ],
      "metadata": {
        "id": "mpf87wPK8U5V"
      }
    },
    {
      "cell_type": "code",
      "source": [
        "#try with test data to see score before HPO\n",
        "svm_score = svm_model.score(X_test_preprocessed, y_test)\n",
        "print('SVM test accuracy:', svm_score)"
      ],
      "metadata": {
        "colab": {
          "base_uri": "https://localhost:8080/"
        },
        "id": "XEWaAK2c7-jy",
        "outputId": "803d1592-b7f0-46b4-b63f-47ea06544976"
      },
      "execution_count": null,
      "outputs": [
        {
          "output_type": "stream",
          "name": "stdout",
          "text": [
            "SVM test accuracy: 0.7461928934010152\n"
          ]
        }
      ]
    },
    {
      "cell_type": "code",
      "source": [
        "y_pred = svm_model.predict(X_test_preprocessed)\n",
        "print(classification_report(y_test, y_pred))"
      ],
      "metadata": {
        "colab": {
          "base_uri": "https://localhost:8080/"
        },
        "id": "eVqEhx64JWZK",
        "outputId": "85c57190-cc7f-4d6a-fa01-42eccaa2f03d"
      },
      "execution_count": null,
      "outputs": [
        {
          "output_type": "stream",
          "name": "stdout",
          "text": [
            "              precision    recall  f1-score   support\n",
            "\n",
            "        Fake       0.79      0.81      0.80       249\n",
            "        Real       0.66      0.64      0.65       145\n",
            "\n",
            "    accuracy                           0.75       394\n",
            "   macro avg       0.73      0.72      0.73       394\n",
            "weighted avg       0.74      0.75      0.75       394\n",
            "\n"
          ]
        }
      ]
    },
    {
      "cell_type": "markdown",
      "metadata": {
        "id": "Ap4lav-qwM_n"
      },
      "source": [
        "**Here is the accuracy of our SVM score on the test data before performing hyperparameter tuning**\n",
        "<br>\n",
        "* SVM accuracy: 0.7461928934010152"
      ]
    },
    {
      "cell_type": "markdown",
      "source": [
        "###**Hyperparameter Tuning on the SVC Model**"
      ],
      "metadata": {
        "id": "fqeNLJjg14bI"
      }
    },
    {
      "cell_type": "markdown",
      "source": [
        "**Here we set up our paramaters to be used in our SVC Model**"
      ],
      "metadata": {
        "id": "R6nyEZPzyH14"
      }
    },
    {
      "cell_type": "code",
      "execution_count": null,
      "metadata": {
        "colab": {
          "base_uri": "https://localhost:8080/"
        },
        "id": "DH34_TB6rUoT",
        "outputId": "4832ecdd-8323-4e70-b1a8-49ea501cdbec"
      },
      "outputs": [
        {
          "output_type": "execute_result",
          "data": {
            "text/plain": [
              "15"
            ]
          },
          "metadata": {},
          "execution_count": 121
        }
      ],
      "source": [
        "# cv - cross-validation generator - required for RandomizedSearchCV\n",
        "cv = RepeatedKFold(n_splits=5, n_repeats=3, random_state=1)\n",
        "cv.get_n_splits(X_train_preprocessed, y_train)"
      ]
    },
    {
      "cell_type": "code",
      "execution_count": null,
      "metadata": {
        "id": "nfIoNe34rKyv"
      },
      "outputs": [],
      "source": [
        "# required model for RandomizedSearchCV\n",
        "model = SVC(decision_function_shape='ovr')"
      ]
    },
    {
      "cell_type": "code",
      "execution_count": null,
      "metadata": {
        "id": "MkzpXWmTrG2n"
      },
      "outputs": [],
      "source": [
        "# set up our potential hyperparamters\n",
        "tuned_parameters = [\n",
        "    {\"kernel\": [\"rbf\"], \"gamma\": [1e-3, 1e-4], \"C\": [1, 10, 100]},\n",
        "    {\"kernel\": [\"linear\"], \"C\": [1, 10, 100]},\n",
        "    {\"kernel\": [\"poly\"], \"degree\": [2, 3, 4], \"C\": [1, 10, 100]}\n",
        "]"
      ]
    },
    {
      "cell_type": "markdown",
      "source": [
        "####**HPO for SVC Model**"
      ],
      "metadata": {
        "id": "pjQkmV6pYa_4"
      }
    },
    {
      "cell_type": "markdown",
      "source": [
        "**We use RandomizedSearchCV function to find the optimal parameters**"
      ],
      "metadata": {
        "id": "5MMfJX_W2c9Z"
      }
    },
    {
      "cell_type": "code",
      "execution_count": null,
      "metadata": {
        "id": "qpcYUD_Drck_",
        "colab": {
          "base_uri": "https://localhost:8080/"
        },
        "outputId": "d7de6a03-456d-4772-949e-3eb5f0cc20f8"
      },
      "outputs": [
        {
          "output_type": "stream",
          "name": "stdout",
          "text": [
            "Best parameters: {'kernel': 'rbf', 'gamma': 0.001, 'C': 100}\n"
          ]
        }
      ],
      "source": [
        "# Define the search method\n",
        "search = RandomizedSearchCV(model, tuned_parameters, n_iter=12, cv=cv, scoring='accuracy', random_state=1)\n",
        "\n",
        "# Fit the search method to the training data\n",
        "search.fit(X_train_preprocessed, y_train)\n",
        "\n",
        "# Print the best-tuned parameters and the test accuracy\n",
        "print(\"Best parameters:\", search.best_params_)"
      ]
    },
    {
      "cell_type": "markdown",
      "metadata": {
        "id": "IftPZYDdvnNZ"
      },
      "source": [
        "### **Result from hyperparameter tuning on SVC model:**\n",
        "* Best parameters:\n",
        "  * 'kernel': 'rbf'\n",
        "  * 'gamma': 0.001\n",
        "  * 'C': 100"
      ]
    },
    {
      "cell_type": "markdown",
      "metadata": {
        "id": "innhE52hxBpt"
      },
      "source": [
        "####**Re-train your model using the optimal hyper-parameters**"
      ]
    },
    {
      "cell_type": "code",
      "execution_count": null,
      "metadata": {
        "id": "W_-4CsD8ay5J",
        "colab": {
          "base_uri": "https://localhost:8080/"
        },
        "outputId": "32513f3b-0d8e-4201-8421-cad50bf04e51"
      },
      "outputs": [
        {
          "output_type": "stream",
          "name": "stdout",
          "text": [
            "SVM accuracy: 0.9441624365482234\n"
          ]
        }
      ],
      "source": [
        "# Train an SVM model on the preprocessed training set and evaluate it on the preprocessed testing set using the\n",
        "# optimized paramters we just discovered\n",
        "svm_model = SVC(kernel='rbf', gamma=0.001, C=100)\n",
        "svm_model.fit(X_train_preprocessed, y_train)\n",
        "svm_score = svm_model.score(X_test_preprocessed, y_test) # !!Should this be y_train? - jt\n",
        "print('SVM accuracy:', svm_score)"
      ]
    },
    {
      "cell_type": "markdown",
      "source": [
        "**SVC Accuracy on Test Data after implementing HPO:**\n",
        "* 0.9441624365482234"
      ],
      "metadata": {
        "id": "znPTdZCZCvZ1"
      }
    },
    {
      "cell_type": "code",
      "execution_count": null,
      "metadata": {
        "id": "lB_kF3KYHqN1"
      },
      "outputs": [],
      "source": [
        "# make predictions on test set\n",
        "y_pred = svm_model.predict(X_test_preprocessed)"
      ]
    },
    {
      "cell_type": "markdown",
      "source": [
        "**Here we print the results of our SVC Model on the test data after using HPO to improve our model**"
      ],
      "metadata": {
        "id": "kTYI40QT7qrS"
      }
    },
    {
      "cell_type": "code",
      "execution_count": null,
      "metadata": {
        "id": "yIdoGxxZIB7N",
        "colab": {
          "base_uri": "https://localhost:8080/"
        },
        "outputId": "f6e30358-41ee-4969-8f23-2e3b17885806"
      },
      "outputs": [
        {
          "output_type": "stream",
          "name": "stdout",
          "text": [
            "              precision    recall  f1-score   support\n",
            "\n",
            "        Fake       1.00      0.92      0.95       249\n",
            "        Real       0.87      0.99      0.93       145\n",
            "\n",
            "    accuracy                           0.94       394\n",
            "   macro avg       0.93      0.95      0.94       394\n",
            "weighted avg       0.95      0.94      0.94       394\n",
            "\n"
          ]
        }
      ],
      "source": [
        "# print results\n",
        "print(classification_report(y_test, y_pred))"
      ]
    },
    {
      "cell_type": "markdown",
      "source": [
        "**Here we use a area under the ROC curve to evaluate our model**"
      ],
      "metadata": {
        "id": "MYrUQaJdY8bV"
      }
    },
    {
      "cell_type": "code",
      "source": [
        "from sklearn.metrics import roc_curve, auc\n",
        "import matplotlib.pyplot as plt\n",
        "from sklearn.preprocessing import LabelEncoder\n",
        "\n",
        "# Encode the labels as 0 and 1\n",
        "le = LabelEncoder()\n",
        "y_test_encoded = le.fit_transform(y_test)\n",
        "\n",
        "# Generate predicted probabilities for the testing set\n",
        "y_pred_prob = svm_model.decision_function(X_test_preprocessed)\n",
        "\n",
        "# Calculate the false positive rate and true positive rate for different thresholds\n",
        "fpr, tpr, thresholds = roc_curve(y_test_encoded, y_pred_prob)\n",
        "\n",
        "# Calculate the area under the ROC curve\n",
        "roc_auc = auc(fpr, tpr)\n",
        "\n",
        "# Plot the ROC curve\n",
        "plt.plot(fpr, tpr, label='ROC curve (area = %0.2f)' % roc_auc)\n",
        "plt.plot([0, 1], [0, 1], 'k--')  # random guessing curve\n",
        "plt.xlim([0.0, 1.0])\n",
        "plt.ylim([0.0, 1.05])\n",
        "plt.xlabel('False Positive Rate')\n",
        "plt.ylabel('True Positive Rate')\n",
        "plt.title('Receiver operating characteristic')\n",
        "plt.legend(loc=\"lower right\")\n",
        "plt.show()\n"
      ],
      "metadata": {
        "id": "LJjb9teHI5mp",
        "colab": {
          "base_uri": "https://localhost:8080/",
          "height": 472
        },
        "outputId": "45a193a0-ab6b-44ed-ce63-7c087d09db0a"
      },
      "execution_count": null,
      "outputs": [
        {
          "output_type": "display_data",
          "data": {
            "text/plain": [
              "<Figure size 640x480 with 1 Axes>"
            ],
            "image/png": "[encoded data removed]"
          },
          "metadata": {}
        }
      ]
    },
    {
      "cell_type": "markdown",
      "source": [
        "**As shown in the above graph, our model produces a ROC curve with and area of .93 which is quite accurate.**"
      ],
      "metadata": {
        "id": "BUiJnmzvZNnQ"
      }
    },
    {
      "cell_type": "markdown",
      "source": [
        "##**Logistic Regression Model**"
      ],
      "metadata": {
        "id": "zLYOlJ0NopiG"
      }
    },
    {
      "cell_type": "markdown",
      "source": [
        "**Here we set up the data for the Logistic Regression Model.**"
      ],
      "metadata": {
        "id": "RtqbUzv3Yk7g"
      }
    },
    {
      "cell_type": "code",
      "source": [
        "import pandas as pd\n",
        "from sklearn.feature_extraction.text import TfidfVectorizer\n",
        "from sklearn.linear_model import LogisticRegression\n",
        "from sklearn.metrics import accuracy_score, precision_score, recall_score, f1_score\n",
        "from sklearn.model_selection import train_test_split\n",
        "\n",
        "\n",
        "# Split the dataset into training and testing sets\n",
        "X_train, X_test, y_train, y_test = train_test_split(new_data[['author', 'published', 'site_url', 'type', 'title_without_stopwords', 'text_without_stopwords']], new_data['label'], test_size=0.2, random_state=42)\n",
        "\n",
        "# Vectorize the text features using TfidfVectorizer\n",
        "vectorizer = TfidfVectorizer()\n",
        "X_train_text = vectorizer.fit_transform(X_train['text_without_stopwords'])\n",
        "X_test_text = vectorizer.transform(X_test['text_without_stopwords'])\n"
      ],
      "metadata": {
        "id": "5ng0D6mfvHwk"
      },
      "execution_count": null,
      "outputs": []
    },
    {
      "cell_type": "markdown",
      "source": [
        "**Here we build the model and test it wil the Test Data.**"
      ],
      "metadata": {
        "id": "RfoZExfHYsw3"
      }
    },
    {
      "cell_type": "code",
      "source": [
        "# Train a logistic regression model\n",
        "clf = LogisticRegression()\n",
        "clf.fit(X_train_text, y_train)\n",
        "\n",
        "# Evaluate the performance of the model\n",
        "y_pred = clf.predict(X_test_text)\n",
        "print(\"Accuracy:\", accuracy_score(y_test, y_pred))\n",
        "print(\"Precision:\", precision_score(y_test, y_pred, pos_label='Real'))\n",
        "print(\"Recall:\", recall_score(y_test, y_pred, pos_label='Real'))\n",
        "print(\"F1-score:\", f1_score(y_test, y_pred, pos_label='Real'))"
      ],
      "metadata": {
        "colab": {
          "base_uri": "https://localhost:8080/"
        },
        "id": "kU7ADKlIvcRR",
        "outputId": "adcb76ab-edaa-489a-fd98-693abb0751d3"
      },
      "execution_count": null,
      "outputs": [
        {
          "output_type": "stream",
          "name": "stdout",
          "text": [
            "Accuracy: 0.7284263959390863\n",
            "Precision: 0.88\n",
            "Recall: 0.30344827586206896\n",
            "F1-score: 0.45128205128205123\n"
          ]
        }
      ]
    },
    {
      "cell_type": "code",
      "source": [
        "print(classification_report(y_pred, y_test))"
      ],
      "metadata": {
        "colab": {
          "base_uri": "https://localhost:8080/"
        },
        "id": "EiHxqNkUKeLq",
        "outputId": "49894e3e-bbd6-4d18-b1cf-1952da0975ac"
      },
      "execution_count": null,
      "outputs": [
        {
          "output_type": "stream",
          "name": "stdout",
          "text": [
            "              precision    recall  f1-score   support\n",
            "\n",
            "        Fake       0.98      0.71      0.82       344\n",
            "        Real       0.30      0.88      0.45        50\n",
            "\n",
            "    accuracy                           0.73       394\n",
            "   macro avg       0.64      0.79      0.64       394\n",
            "weighted avg       0.89      0.73      0.77       394\n",
            "\n"
          ]
        }
      ]
    },
    {
      "cell_type": "markdown",
      "source": [
        "**As we can see, our initial accuracy is 73% which is not the greatest.**"
      ],
      "metadata": {
        "id": "FBI8mmAwY5vf"
      }
    },
    {
      "cell_type": "markdown",
      "source": [
        "####**HPO for Logistic Regression Model**"
      ],
      "metadata": {
        "id": "c1EiyWuYZP_i"
      }
    },
    {
      "cell_type": "markdown",
      "source": [
        "**Next, we try to implement some HPO to improve the accuracy of our Logistic Regression Model**"
      ],
      "metadata": {
        "id": "6BJgVXXoZDMm"
      }
    },
    {
      "cell_type": "code",
      "source": [
        "# Define hyperparameters to search\n",
        "param_grid = {'C': [0.01, 0.1, 1, 10, 100], 'penalty': ['l2'], 'solver': ['liblinear', 'lbfgs', 'newton-cg']}\n",
        "\n",
        "# Perform grid search\n",
        "grid_search = GridSearchCV(LogisticRegression(), param_grid, cv=10)\n",
        "grid_search.fit(X_train_text, y_train)\n",
        "\n",
        "# Get best hyperparameters\n",
        "best_params = grid_search.best_params_\n",
        "print(\"Best hyperparameters:\", best_params)\n"
      ],
      "metadata": {
        "colab": {
          "base_uri": "https://localhost:8080/"
        },
        "id": "wmJ2tNqr723M",
        "outputId": "8f96adaf-14d1-469a-99c7-c25612b240c2"
      },
      "execution_count": null,
      "outputs": [
        {
          "output_type": "stream",
          "name": "stdout",
          "text": [
            "Best hyperparameters: {'C': 10, 'penalty': 'l2', 'solver': 'liblinear'}\n"
          ]
        }
      ]
    },
    {
      "cell_type": "markdown",
      "source": [
        "### **Result from hyperparameter tuning on Logistic Regression model:**\n",
        "* Best parameters:\n",
        "  * 'C': 10\n",
        "  * 'Penalty': 'l2'\n",
        "  * 'Solver': liblinear"
      ],
      "metadata": {
        "id": "IfFsh67BZUR-"
      }
    },
    {
      "cell_type": "markdown",
      "source": [
        "**Now we build our Logistic Regression model again using our optimal hyper-parameters**"
      ],
      "metadata": {
        "id": "SvmWwV7KZ5Aa"
      }
    },
    {
      "cell_type": "code",
      "source": [
        "# Train a logistic regression model with the best hyperparameters\n",
        "clf = LogisticRegression(C=10, penalty='l2', solver='liblinear')\n",
        "clf.fit(X_train_text, y_train)\n",
        "\n",
        "# Evaluate the performance of the model\n",
        "y_pred = clf.predict(X_test_text)\n",
        "logmod_acc = accuracy_score(y_test, y_pred)\n",
        "\n",
        "print(\"Accuracy:\", accuracy_score(y_test, y_pred))\n",
        "print(\"Precision:\", precision_score(y_test, y_pred, pos_label='Real'))\n",
        "print(\"Recall:\", recall_score(y_test, y_pred, pos_label='Real'))\n",
        "print(\"F1-score:\", f1_score(y_test, y_pred, pos_label='Real'))"
      ],
      "metadata": {
        "colab": {
          "base_uri": "https://localhost:8080/"
        },
        "id": "NYIgMZgn-Opd",
        "outputId": "d5cee3f6-f712-459a-b965-ffb405645136"
      },
      "execution_count": null,
      "outputs": [
        {
          "output_type": "stream",
          "name": "stdout",
          "text": [
            "Accuracy: 0.7842639593908629\n",
            "Precision: 0.8191489361702128\n",
            "Recall: 0.5310344827586206\n",
            "F1-score: 0.6443514644351465\n"
          ]
        }
      ]
    },
    {
      "cell_type": "code",
      "source": [
        "print(classification_report(y_pred, y_test))"
      ],
      "metadata": {
        "colab": {
          "base_uri": "https://localhost:8080/"
        },
        "id": "MN_eZ-yG-3V3",
        "outputId": "4f420d11-b516-47cc-d32c-5cae4a94c098"
      },
      "execution_count": null,
      "outputs": [
        {
          "output_type": "stream",
          "name": "stdout",
          "text": [
            "              precision    recall  f1-score   support\n",
            "\n",
            "        Fake       0.93      0.77      0.85       300\n",
            "        Real       0.53      0.82      0.64        94\n",
            "\n",
            "    accuracy                           0.78       394\n",
            "   macro avg       0.73      0.80      0.74       394\n",
            "weighted avg       0.84      0.78      0.80       394\n",
            "\n"
          ]
        }
      ]
    },
    {
      "cell_type": "markdown",
      "source": [
        "####**Results of HPO on Logistic Regression model:**\n",
        "* As shown in the confusion matrix above, our new model using HPO now has an accuracy of 78%. This is not the results we expected after implementing HPO."
      ],
      "metadata": {
        "id": "ztqwq3qjaDVr"
      }
    },
    {
      "cell_type": "code",
      "source": [
        "# Convert the string labels to binary-encoded 0 and 1 labels\n",
        "y_test_encoded = le.fit_transform(y_test)\n",
        "\n",
        "# Assuming your model is already trained and you have obtained the predicted probabilities on the test set\n",
        "y_pred_proba = clf.predict_proba(X_test_text)[:, 1]\n",
        "fpr, tpr, _ = roc_curve(y_test_encoded, y_pred_proba)\n",
        "roc_auc_log = auc(fpr, tpr)\n",
        "\n",
        "plt.plot(fpr, tpr, label='ROC curve (area = %0.2f)' % roc_auc_log)\n",
        "plt.plot([0, 1], [0, 1], 'k--')\n",
        "plt.xlim([0.0, 1.0])\n",
        "plt.ylim([0.0, 1.05])\n",
        "plt.xlabel('False Positive Rate')\n",
        "plt.ylabel('True Positive Rate')\n",
        "plt.title('Receiver operating characteristic')\n",
        "plt.legend(loc=\"lower right\")\n",
        "plt.show()\n"
      ],
      "metadata": {
        "colab": {
          "base_uri": "https://localhost:8080/",
          "height": 472
        },
        "id": "vLApFGdfpQve",
        "outputId": "5171e4d8-474f-4450-9016-2221023f17cb"
      },
      "execution_count": null,
      "outputs": [
        {
          "output_type": "display_data",
          "data": {
            "text/plain": [
              "<Figure size 640x480 with 1 Axes>"
            ],
            "image/png": "[encoded data removed]"
          },
          "metadata": {}
        }
      ]
    },
    {
      "cell_type": "markdown",
      "source": [
        "##**Neural Network Model**\n",
        "####**Note - given the accuracy of this model, we did not include it in the presentation. We worked hard to get it working but could not get the accuracy we wanted**\n",
        "\n",
        "<br>**Here we start to build our Neural Network Model**"
      ],
      "metadata": {
        "id": "eQLQ2h5hAcV1"
      }
    },
    {
      "cell_type": "code",
      "source": [
        "import tensorflow as tf\n",
        "from sklearn.model_selection import train_test_split\n",
        "from tensorflow.keras.preprocessing.text import Tokenizer\n",
        "from tensorflow.keras.preprocessing.sequence import pad_sequences\n",
        "from keras.models import Sequential\n",
        "from keras.layers import Dense\n",
        "from keras.layers import Dropout\n",
        "from keras.wrappers.scikit_learn import KerasClassifier\n",
        "\n",
        "X = new_data.drop(['label', 'language', 'title', 'text'], axis=1) #drop language attribute\n",
        "y = new_data['label']\n",
        "\n",
        "# Split the dataset into training and testing sets\n",
        "train_data, test_data, train_labels, test_labels = train_test_split(X, y, test_size=0.2, random_state=42)\n",
        "\n",
        "# Find the maximum length of the text in dataset\n",
        "maxlen = max([len(x.split()) for x in train_data['text_without_stopwords']])\n",
        "\n",
        "# Convert the text data into numerical sequences\n",
        "tokenizer = Tokenizer(num_words=100000, oov_token='<OOV>')\n",
        "tokenizer.fit_on_texts(train_data['text_without_stopwords'])\n",
        "train_sequences = tokenizer.texts_to_sequences(train_data['text_without_stopwords'])\n",
        "test_sequences = tokenizer.texts_to_sequences(test_data['text_without_stopwords'])\n",
        "\n",
        "# Pad the sequences so that they are all the same length\n",
        "train_data = pad_sequences(train_sequences, maxlen=maxlen)\n",
        "test_data = pad_sequences(test_sequences, maxlen=maxlen)\n",
        "\n",
        "# Convert the labels into numerical values\n",
        "train_labels = np.where(train_labels=='Real', 1, 0)\n",
        "test_labels = np.where(test_labels=='Real', 1, 0)\n",
        "\n",
        "train_data"
      ],
      "metadata": {
        "colab": {
          "base_uri": "https://localhost:8080/"
        },
        "id": "PFRM8HTieoM9",
        "outputId": "f4d0fbbc-4cc8-4568-d5a2-3165bcc3b370"
      },
      "execution_count": null,
      "outputs": [
        {
          "output_type": "execute_result",
          "data": {
            "text/plain": [
              "array([[   0,    0,    0, ...,  558, 1754,  521],\n",
              "       [   0,    0,    0, ...,  451,    4,  232],\n",
              "       [   0,    0,    0, ...,   70,  567,  621],\n",
              "       ...,\n",
              "       [   0,    0,    0, ...,  147, 1248,  213],\n",
              "       [   0,    0,    0, ..., 4212, 1200,  985],\n",
              "       [   0,    0,    0, ..., 1233,  485,  797]], dtype=int32)"
            ]
          },
          "metadata": {},
          "execution_count": 136
        }
      ]
    },
    {
      "cell_type": "code",
      "source": [
        "print('Train: X=%s, y=%s' % (train_data.shape, train_labels.shape))\n",
        "print('Test: X=%s, y=%s' % (test_data.shape, test_labels.shape))"
      ],
      "metadata": {
        "id": "Q2WltWoWy1Z1",
        "colab": {
          "base_uri": "https://localhost:8080/"
        },
        "outputId": "ec5e4585-93f6-44e5-af1b-7e356aec3f43"
      },
      "execution_count": null,
      "outputs": [
        {
          "output_type": "stream",
          "name": "stdout",
          "text": [
            "Train: X=(1573, 3015), y=(1573,)\n",
            "Test: X=(394, 3015), y=(394,)\n"
          ]
        }
      ]
    },
    {
      "cell_type": "code",
      "source": [
        "# Calculate the class distribution in the training and testing sets\n",
        "train_classes = train_labels.sum()\n",
        "test_classes = test_labels.sum()\n",
        "\n",
        "# Plot the class distribution\n",
        "fig, ax = plt.subplots()\n",
        "ax.bar(['Real', 'Fake'], [train_classes, len(train_labels)-train_classes], label='Training Set', color=['blue'])\n",
        "ax.bar(['Real', 'Fake'], [test_classes, len(test_labels)-test_classes], label='Testing Set', alpha=0.5, color=['red'])\n",
        "ax.set_xlabel('Class')\n",
        "ax.set_ylabel('Number of Samples')\n",
        "ax.legend()\n",
        "plt.show()"
      ],
      "metadata": {
        "id": "_a5K-Tfd5cIl",
        "colab": {
          "base_uri": "https://localhost:8080/",
          "height": 449
        },
        "outputId": "369bea27-f8b5-45b2-9e55-5bb45a54d5dd"
      },
      "execution_count": null,
      "outputs": [
        {
          "output_type": "display_data",
          "data": {
            "text/plain": [
              "<Figure size 640x480 with 1 Axes>"
            ],
            "image/png": "[encoded data removed]"
          },
          "metadata": {}
        }
      ]
    },
    {
      "cell_type": "code",
      "source": [
        "train_data = train_data.reshape((1573, 3015))\n",
        "test_data = test_data.reshape((394, 3015))\n",
        "print(\"New training data shape:\", train_data.shape)\n",
        "print(\"New testing data shape:\", test_data.shape)"
      ],
      "metadata": {
        "id": "U2GX7ZGDAs9j",
        "colab": {
          "base_uri": "https://localhost:8080/"
        },
        "outputId": "a34c4a18-66cf-4ddc-ee9f-0a1d0c5e7983"
      },
      "execution_count": null,
      "outputs": [
        {
          "output_type": "stream",
          "name": "stdout",
          "text": [
            "New training data shape: (1573, 3015)\n",
            "New testing data shape: (394, 3015)\n"
          ]
        }
      ]
    },
    {
      "cell_type": "code",
      "source": [
        "train_data = train_data.astype('float32')\n",
        "test_data = test_data.astype('float32')\n",
        "\n",
        "train_data /= 255.0\n",
        "test_data /= 255.0"
      ],
      "metadata": {
        "id": "MlFMBb2RBDKJ"
      },
      "execution_count": null,
      "outputs": []
    },
    {
      "cell_type": "code",
      "source": [
        "from tensorflow.keras.utils import to_categorical\n",
        "\n",
        "train_labels = to_categorical(train_labels)\n",
        "test_labels = to_categorical(test_labels)\n",
        "\n",
        "print(\"New training labels shape:\", train_labels.shape)\n",
        "print(\"New testing labels shape:\", test_labels.shape)"
      ],
      "metadata": {
        "id": "77fVhkpiDdA6",
        "colab": {
          "base_uri": "https://localhost:8080/"
        },
        "outputId": "4d83d702-1cec-4a73-fc3e-9f1042f31b5e"
      },
      "execution_count": null,
      "outputs": [
        {
          "output_type": "stream",
          "name": "stdout",
          "text": [
            "New training labels shape: (1573, 2)\n",
            "New testing labels shape: (394, 2)\n"
          ]
        }
      ]
    },
    {
      "cell_type": "markdown",
      "source": [
        "**Define Model Function**"
      ],
      "metadata": {
        "id": "Fi2Q5l-5GQq7"
      }
    },
    {
      "cell_type": "code",
      "source": [
        "def tuned_model(neurons=1, dropout_rate=0.0, layers=2, act_h='relu', act_o='softmax'):\n",
        "    # create model\n",
        "    model = Sequential()\n",
        "\n",
        "    # Add input layer\n",
        "    model.add(Dense(neurons, input_dim=train_data.shape[1], kernel_initializer='normal', activation=act_h))\n",
        "    model.add(Dropout(dropout_rate))\n",
        "\n",
        "    # Add hidden layers\n",
        "    for i in range(layers-1):\n",
        "        model.add(Dense(neurons, kernel_initializer='normal', activation=act_h))\n",
        "        model.add(Dropout(dropout_rate))\n",
        "\n",
        "    # Add output layer\n",
        "    model.add(Dense(2, kernel_initializer='normal', activation=act_o))\n",
        "\n",
        "    # Compile model\n",
        "    model.compile(loss='categorical_crossentropy', optimizer='adam', metrics=['accuracy'])\n",
        "\n",
        "    return model"
      ],
      "metadata": {
        "id": "v9jgFSjwGRRu"
      },
      "execution_count": null,
      "outputs": []
    },
    {
      "cell_type": "markdown",
      "source": [
        "**Implement Grid Search with Necessary Parameters**"
      ],
      "metadata": {
        "id": "JBTvUmPa5j_k"
      }
    },
    {
      "cell_type": "code",
      "source": [
        "# Define the hyperparameter dictionary\n",
        "params = {\n",
        "    'neurons': [50,100,200],#[32, 64, 128],\n",
        "    'dropout_rate': [0.2, 0.3, 0.4],\n",
        "    'layers': [2, 3, 4],\n",
        "    'act_h': ['relu', 'tanh', 'sigmoid'], #added sigmoid but did not help\n",
        "    'act_o': ['softmax', 'sigmoid'] #added sigmoid\n",
        "}\n",
        "\n",
        "# Create a Keras classifier with the tuned_model function and the desired number of epochs and batch size\n",
        "classifier = KerasClassifier(build_fn=tuned_model, epochs=15, batch_size=64, verbose=0)\n",
        "\n",
        "# Run grid search\n",
        "grid=RandomizedSearchCV(estimator=classifier, param_distributions=params, n_jobs=-1, cv=3)\n",
        "grid_result = grid.fit(train_data, train_labels)\n"
      ],
      "metadata": {
        "id": "1uMW1ygsMqUU",
        "colab": {
          "base_uri": "https://localhost:8080/"
        },
        "outputId": "a2119abf-ca96-494e-8f56-f6d1152c978f"
      },
      "execution_count": null,
      "outputs": [
        {
          "output_type": "stream",
          "name": "stderr",
          "text": [
            "<ipython-input-143-ca1d93ea5160>:11: DeprecationWarning:\n",
            "\n",
            "KerasClassifier is deprecated, use Sci-Keras (https://github.com/adriangb/scikeras) instead. See https://www.adriangb.com/scikeras/stable/migration.html for help migrating.\n",
            "\n",
            "/usr/local/lib/python3.9/dist-packages/joblib/externals/loky/process_executor.py:700: UserWarning:\n",
            "\n",
            "A worker stopped while some jobs were given to the executor. This can be caused by a too short worker timeout or by a memory leak.\n",
            "\n"
          ]
        }
      ]
    },
    {
      "cell_type": "code",
      "source": [
        "print(\"Best: %f using %s\" % (grid_result.best_score_, grid_result.best_params_))\n",
        "means = grid_result.cv_results_['mean_test_score']\n",
        "stds = grid_result.cv_results_['std_test_score']\n",
        "params = grid_result.cv_results_['params']\n",
        "for mean, stdev, param in zip(means, stds, params):\n",
        "    print(\"%f (%f) with: %r\" % (mean, stdev, param))"
      ],
      "metadata": {
        "id": "ira_yQNtMt72",
        "colab": {
          "base_uri": "https://localhost:8080/"
        },
        "outputId": "5e2a6f58-07f4-4c75-bc44-0c45c26d91fd"
      },
      "execution_count": null,
      "outputs": [
        {
          "output_type": "stream",
          "name": "stdout",
          "text": [
            "Best: 0.615380 using {'neurons': 200, 'layers': 3, 'dropout_rate': 0.2, 'act_o': 'sigmoid', 'act_h': 'tanh'}\n",
            "0.603280 (0.035550) with: {'neurons': 200, 'layers': 4, 'dropout_rate': 0.2, 'act_o': 'softmax', 'act_h': 'relu'}\n",
            "0.600755 (0.009196) with: {'neurons': 200, 'layers': 2, 'dropout_rate': 0.3, 'act_o': 'sigmoid', 'act_h': 'tanh'}\n",
            "0.592480 (0.021588) with: {'neurons': 50, 'layers': 3, 'dropout_rate': 0.2, 'act_o': 'softmax', 'act_h': 'tanh'}\n",
            "0.615380 (0.012827) with: {'neurons': 200, 'layers': 3, 'dropout_rate': 0.2, 'act_o': 'sigmoid', 'act_h': 'tanh'}\n",
            "0.594404 (0.001263) with: {'neurons': 100, 'layers': 4, 'dropout_rate': 0.2, 'act_o': 'sigmoid', 'act_h': 'tanh'}\n",
            "0.604567 (0.015389) with: {'neurons': 50, 'layers': 3, 'dropout_rate': 0.4, 'act_o': 'softmax', 'act_h': 'sigmoid'}\n",
            "0.602667 (0.006481) with: {'neurons': 50, 'layers': 3, 'dropout_rate': 0.2, 'act_o': 'softmax', 'act_h': 'sigmoid'}\n",
            "0.595683 (0.008390) with: {'neurons': 100, 'layers': 2, 'dropout_rate': 0.2, 'act_o': 'softmax', 'act_h': 'relu'}\n",
            "0.595673 (0.023020) with: {'neurons': 50, 'layers': 3, 'dropout_rate': 0.4, 'act_o': 'sigmoid', 'act_h': 'relu'}\n",
            "0.575949 (0.022407) with: {'neurons': 50, 'layers': 4, 'dropout_rate': 0.4, 'act_o': 'sigmoid', 'act_h': 'relu'}\n"
          ]
        }
      ]
    },
    {
      "cell_type": "code",
      "source": [
        "# Create model\n",
        "# Hidden Layer\n",
        "model = Sequential()\n",
        "model.add(Dense(50, input_dim=train_data.shape[1], kernel_initializer='normal', activation='sigmoid'))\n",
        "model.add(Dropout(0.3))\n",
        "model.add(Dense(50, kernel_initializer='normal', activation='sigmoid'))\n",
        "model.add(Dropout(0.3))\n",
        "model.add(Dense(50, kernel_initializer='normal', activation='sigmoid'))\n",
        "model.add(Dropout(0.3))\n",
        "model.add(Dense(50, kernel_initializer='normal', activation='sigmoid'))\n",
        "\n",
        "# Output Layer\n",
        "model.add(Dense(2, kernel_initializer='normal', activation='softmax'))\n",
        "\n",
        "# Compile model\n",
        "model.compile(loss='categorical_crossentropy', optimizer='adam', metrics='accuracy')\n",
        "# Fit model\n",
        "model.fit(train_data, train_labels, epochs=10, batch_size=64, verbose=0)"
      ],
      "metadata": {
        "colab": {
          "base_uri": "https://localhost:8080/"
        },
        "id": "YmbHIDE8nALK",
        "outputId": "11e5c4c1-7490-48b8-86a4-9f09e1e1b91f"
      },
      "execution_count": null,
      "outputs": [
        {
          "output_type": "execute_result",
          "data": {
            "text/plain": [
              "<keras.callbacks.History at 0x7f80840d5610>"
            ]
          },
          "metadata": {},
          "execution_count": 145
        }
      ]
    },
    {
      "cell_type": "code",
      "source": [
        "from keras.utils import np_utils\n",
        "test_predicted = model.predict(test_data)\n",
        "test_predicted = np_utils.to_categorical(np.argmax(test_predicted, axis=1))\n",
        "\n",
        "print(\"New testing predicted shape:\", test_predicted.shape)"
      ],
      "metadata": {
        "colab": {
          "base_uri": "https://localhost:8080/"
        },
        "id": "wGXnDVk9ngSK",
        "outputId": "952720af-245b-4826-a97b-cdce44385375"
      },
      "execution_count": null,
      "outputs": [
        {
          "output_type": "stream",
          "name": "stdout",
          "text": [
            "13/13 [==============================] - 0s 2ms/step\n",
            "New testing predicted shape: (394, 1)\n"
          ]
        }
      ]
    },
    {
      "cell_type": "code",
      "source": [
        "from sklearn.metrics import accuracy_score\n",
        "\n",
        "threshold = 0.5\n",
        "test_predicted_binary = (test_predicted > threshold).astype(int)\n",
        "test_labels_binary = test_labels.argmax(axis=1)\n",
        "\n",
        "ac_score = accuracy_score(test_labels_binary, test_predicted_binary)\n",
        "print(\"Accuracy:\", ac_score)\n"
      ],
      "metadata": {
        "colab": {
          "base_uri": "https://localhost:8080/"
        },
        "id": "O3Dcft1fnsiH",
        "outputId": "13f18979-8159-43cb-b4b6-82cb2638c04d"
      },
      "execution_count": null,
      "outputs": [
        {
          "output_type": "stream",
          "name": "stdout",
          "text": [
            "Accuracy: 0.3680203045685279\n"
          ]
        }
      ]
    },
    {
      "cell_type": "markdown",
      "source": [
        "#**Results**\n"
      ],
      "metadata": {
        "id": "AvghfNbluSrG"
      }
    },
    {
      "cell_type": "markdown",
      "source": [
        "###**Model Accuracy Comparison**"
      ],
      "metadata": {
        "id": "AaHvKH34S64z"
      }
    },
    {
      "cell_type": "markdown",
      "source": [
        "**Here we implement a function to graphically depict the accuracy of the Support Vector Classifier model and the Logistic Regression model**"
      ],
      "metadata": {
        "id": "ZFX1ZPVbT55L"
      }
    },
    {
      "cell_type": "code",
      "source": [
        "import matplotlib.pyplot as plt\n",
        "\n",
        "# Define the accuracy scores for each model\n",
        "model_a_accuracy = svm_score\n",
        "model_b_accuracy = logmod_acc\n",
        "\n",
        "# Set up the bar chart\n",
        "fig, ax = plt.subplots()\n",
        "models = ['SVC', 'Logistic Regression']\n",
        "accuracy_scores = [model_a_accuracy, model_b_accuracy]\n",
        "bar_colors = ['blue', 'red']\n",
        "\n",
        "# Create the bars\n",
        "rects = ax.bar(models, accuracy_scores, color=bar_colors)\n",
        "\n",
        "# Add labels and title\n",
        "ax.set_xlabel('Models')\n",
        "ax.set_ylabel('Accuracy')\n",
        "ax.set_title('Model Accuracy Comparison')\n",
        "\n",
        "# Add the accuracy scores as labels on the bars\n",
        "for rect in rects:\n",
        "    height = rect.get_height()\n",
        "    ax.annotate(f'{height:.2f}', xy=(rect.get_x() + rect.get_width() / 2, height),\n",
        "                xytext=(0, 3), textcoords='offset points', ha='center', va='bottom')\n",
        "\n",
        "# Add a legend\n",
        "ax.legend()\n",
        "\n",
        "# Show the plot\n",
        "plt.show()"
      ],
      "metadata": {
        "colab": {
          "base_uri": "https://localhost:8080/",
          "height": 509
        },
        "id": "S0bzKWnVS_sV",
        "outputId": "d680c687-eba2-4afc-fbb3-99f8c4ed087f"
      },
      "execution_count": null,
      "outputs": [
        {
          "output_type": "stream",
          "name": "stderr",
          "text": [
            "WARNING:matplotlib.legend:No artists with labels found to put in legend.  Note that artists whose label start with an underscore are ignored when legend() is called with no argument.\n"
          ]
        },
        {
          "output_type": "display_data",
          "data": {
            "text/plain": [
              "<Figure size 640x480 with 1 Axes>"
            ],
            "image/png": "[encoded data removed]"
          },
          "metadata": {}
        }
      ]
    },
    {
      "cell_type": "markdown",
      "source": [
        "**As depicted from the above chart, the SVC model performed much better than the Logistic Regression model in terms of accuracy.**"
      ],
      "metadata": {
        "id": "97JmYLfmUEcr"
      }
    },
    {
      "cell_type": "markdown",
      "source": [
        "###**Model Area Under the ROC Curve Comparison**"
      ],
      "metadata": {
        "id": "mH9HtpPNufQh"
      }
    },
    {
      "cell_type": "code",
      "source": [
        "# Define the accuracy scores for each model\n",
        "model_a_accuracy = roc_auc\n",
        "model_b_accuracy = roc_auc_log\n",
        "\n",
        "# Set up the bar chart\n",
        "fig, ax = plt.subplots()\n",
        "models = ['SVC', 'Logistic Regression']\n",
        "accuracy_scores = [model_a_accuracy, model_b_accuracy]\n",
        "bar_colors = ['orange', 'green']\n",
        "\n",
        "# Create the bars\n",
        "rects = ax.bar(models, accuracy_scores, color=bar_colors)\n",
        "\n",
        "# Add labels and title\n",
        "ax.set_xlabel('Models')\n",
        "ax.set_ylabel('Accuracy')\n",
        "ax.set_title('Model AUC ROC Comparison')\n",
        "\n",
        "# Add the accuracy scores as labels on the bars\n",
        "for rect in rects:\n",
        "    height = rect.get_height()\n",
        "    ax.annotate(f'{height:.2f}', xy=(rect.get_x() + rect.get_width() / 2, height),\n",
        "                xytext=(0, 3), textcoords='offset points', ha='center', va='bottom')\n",
        "\n",
        "# Add a legend\n",
        "ax.legend()\n",
        "\n",
        "# Show the plot\n",
        "plt.show()"
      ],
      "metadata": {
        "colab": {
          "base_uri": "https://localhost:8080/",
          "height": 509
        },
        "id": "xvqyKKtTrG9B",
        "outputId": "3e802de8-1444-49eb-a6ce-44d94e515264"
      },
      "execution_count": null,
      "outputs": [
        {
          "output_type": "stream",
          "name": "stderr",
          "text": [
            "WARNING:matplotlib.legend:No artists with labels found to put in legend.  Note that artists whose label start with an underscore are ignored when legend() is called with no argument.\n"
          ]
        },
        {
          "output_type": "display_data",
          "data": {
            "text/plain": [
              "<Figure size 640x480 with 1 Axes>"
            ],
            "image/png": "[encoded data removed]"
          },
          "metadata": {}
        }
      ]
    },
    {
      "cell_type": "markdown",
      "source": [
        "**Shown here again, the SVC model performed much better than the Logistic Regression model in terms of the area of under the ROC curve as well. We believe the SVC model was better suited for the dataset and the hyper-parameter optimization functions we implemented increased the accuracy to make this an excellent model.**"
      ],
      "metadata": {
        "id": "AFKEQPq2ungM"
      }
    }
  ],
  "metadata": {
    "colab": {
      "provenance": [],
      "collapsed_sections": [
        "zLYOlJ0NopiG"
      ]
    },
    "kernelspec": {
      "display_name": "Python 3",
      "name": "python3"
    },
    "language_info": {
      "name": "python"
    },
    "accelerator": "GPU",
    "gpuClass": "standard"
  },
  "nbformat": 4,
  "nbformat_minor": 0
}